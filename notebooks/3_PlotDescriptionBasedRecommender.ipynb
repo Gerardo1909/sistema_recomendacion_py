{
 "cells": [
  {
   "cell_type": "code",
   "execution_count": 1,
   "metadata": {},
   "outputs": [],
   "source": [
    "#Esto me sirve para el correcto funcionamiento de las funciones importadas en este notebook\n",
    "%load_ext autoreload\n",
    "%autoreload 2"
   ]
  },
  {
   "cell_type": "markdown",
   "metadata": {},
   "source": [
    "# Sistema de recomendación basado en contenido"
   ]
  },
  {
   "cell_type": "markdown",
   "metadata": {},
   "source": [
    "## Contexto"
   ]
  },
  {
   "cell_type": "markdown",
   "metadata": {},
   "source": [
    "En los notebooks anteriores, logramos construir un clon bastante cercano al top 250 de mejores películas de IMDB y un sistema de recomendación basado en conocimiento que pedía al usuario algunas características sobre la película que buscaba y devolvía un top con las películas que mejor coincidían. Sin embargo, ambos se mantenían bastante primitivos: **el primero era un simple top que no tomaba en cuenta al usuario y el segundo ofrecía recomendaciones algo genéricas**.\n",
    "\n",
    "Para profundizar más en esto y avanzar en el camino hacia un buen sistema de recomendación, podríamos considerar otras características de las películas e incluirlas. Una de estas características sería **considerar la sinopsis de la película, el director o los actores implicados**. Esto le daría más profundidad a las recomendaciones y, al ser algo que podemos analizar nosotros antes que el usuario, simplificaría mucho el proceso de entender sus gustos. Se volvería tan simple como preguntarle por los títulos de algunas películas que le gusten y, en base a eso, generar recomendaciones, **tal como lo hacen plataformas como Netflix**.\n",
    "\n",
    "De aquí surge el título de este notebook, **el sistema de recomendación basado en contenido**, que toma una película y la compara con otras para ver si sus contenidos son similares."
   ]
  },
  {
   "cell_type": "markdown",
   "metadata": {},
   "source": [
    "## Carga de los datos"
   ]
  },
  {
   "cell_type": "markdown",
   "metadata": {},
   "source": [
    "En el notebook anterior hicimos algún preprocesamiento sobre el dataframe que contaba con la metadata de la película para que este se volviera manipulable y así construir lo que queríamos, en este notebook vamos a empezar usando ese mismo dataframe para generar nuestro nuevo sistema de recomendación:"
   ]
  },
  {
   "cell_type": "code",
   "execution_count": 2,
   "metadata": {},
   "outputs": [],
   "source": [
    "#Importo las librerías a usar\n",
    "from utils.paths import crear_funcion_directorio\n",
    "import pandas as pd\n",
    "\n",
    "#Creo un acceso directo a la carpeta de data\n",
    "data_dir = crear_funcion_directorio(\"data\")\n",
    "\n",
    "#Cargo el dataset\n",
    "df_metadata = pd.read_csv(data_dir(\"processed\", \"movies_metadata_filtered.csv\"))"
   ]
  },
  {
   "cell_type": "markdown",
   "metadata": {},
   "source": [
    "Verificamos que se haya cargado correctamente:"
   ]
  },
  {
   "cell_type": "code",
   "execution_count": 3,
   "metadata": {},
   "outputs": [
    {
     "data": {
      "text/html": [
       "<div>\n",
       "<style scoped>\n",
       "    .dataframe tbody tr th:only-of-type {\n",
       "        vertical-align: middle;\n",
       "    }\n",
       "\n",
       "    .dataframe tbody tr th {\n",
       "        vertical-align: top;\n",
       "    }\n",
       "\n",
       "    .dataframe thead th {\n",
       "        text-align: right;\n",
       "    }\n",
       "</style>\n",
       "<table border=\"1\" class=\"dataframe\">\n",
       "  <thead>\n",
       "    <tr style=\"text-align: right;\">\n",
       "      <th></th>\n",
       "      <th>title</th>\n",
       "      <th>genres</th>\n",
       "      <th>runtime</th>\n",
       "      <th>vote_average</th>\n",
       "      <th>vote_count</th>\n",
       "      <th>release_year</th>\n",
       "    </tr>\n",
       "  </thead>\n",
       "  <tbody>\n",
       "    <tr>\n",
       "      <th>0</th>\n",
       "      <td>Toy Story</td>\n",
       "      <td>['Animation', 'Comedy', 'Family']</td>\n",
       "      <td>81.0</td>\n",
       "      <td>7.7</td>\n",
       "      <td>5415.0</td>\n",
       "      <td>1995.0</td>\n",
       "    </tr>\n",
       "    <tr>\n",
       "      <th>1</th>\n",
       "      <td>Jumanji</td>\n",
       "      <td>['Adventure', 'Fantasy', 'Family']</td>\n",
       "      <td>104.0</td>\n",
       "      <td>6.9</td>\n",
       "      <td>2413.0</td>\n",
       "      <td>1995.0</td>\n",
       "    </tr>\n",
       "    <tr>\n",
       "      <th>2</th>\n",
       "      <td>Grumpier Old Men</td>\n",
       "      <td>['Romance', 'Comedy']</td>\n",
       "      <td>101.0</td>\n",
       "      <td>6.5</td>\n",
       "      <td>92.0</td>\n",
       "      <td>1995.0</td>\n",
       "    </tr>\n",
       "    <tr>\n",
       "      <th>3</th>\n",
       "      <td>Waiting to Exhale</td>\n",
       "      <td>['Comedy', 'Drama', 'Romance']</td>\n",
       "      <td>127.0</td>\n",
       "      <td>6.1</td>\n",
       "      <td>34.0</td>\n",
       "      <td>1995.0</td>\n",
       "    </tr>\n",
       "    <tr>\n",
       "      <th>4</th>\n",
       "      <td>Father of the Bride Part II</td>\n",
       "      <td>['Comedy']</td>\n",
       "      <td>106.0</td>\n",
       "      <td>5.7</td>\n",
       "      <td>173.0</td>\n",
       "      <td>1995.0</td>\n",
       "    </tr>\n",
       "  </tbody>\n",
       "</table>\n",
       "</div>"
      ],
      "text/plain": [
       "                         title                              genres  runtime  \\\n",
       "0                    Toy Story   ['Animation', 'Comedy', 'Family']     81.0   \n",
       "1                      Jumanji  ['Adventure', 'Fantasy', 'Family']    104.0   \n",
       "2             Grumpier Old Men               ['Romance', 'Comedy']    101.0   \n",
       "3            Waiting to Exhale      ['Comedy', 'Drama', 'Romance']    127.0   \n",
       "4  Father of the Bride Part II                          ['Comedy']    106.0   \n",
       "\n",
       "   vote_average  vote_count  release_year  \n",
       "0           7.7      5415.0        1995.0  \n",
       "1           6.9      2413.0        1995.0  \n",
       "2           6.5        92.0        1995.0  \n",
       "3           6.1        34.0        1995.0  \n",
       "4           5.7       173.0        1995.0  "
      ]
     },
     "execution_count": 3,
     "metadata": {},
     "output_type": "execute_result"
    }
   ],
   "source": [
    "df_metadata.head()"
   ]
  },
  {
   "cell_type": "markdown",
   "metadata": {},
   "source": [
    "Este dataframe si bien tiene la estructura en la cual lo dejamos, le está faltando la información sobre la sinopsis de la película, para eso debemos cargar el dataframe original y unirlo a este:"
   ]
  },
  {
   "cell_type": "code",
   "execution_count": 4,
   "metadata": {},
   "outputs": [
    {
     "data": {
      "text/html": [
       "<div>\n",
       "<style scoped>\n",
       "    .dataframe tbody tr th:only-of-type {\n",
       "        vertical-align: middle;\n",
       "    }\n",
       "\n",
       "    .dataframe tbody tr th {\n",
       "        vertical-align: top;\n",
       "    }\n",
       "\n",
       "    .dataframe thead th {\n",
       "        text-align: right;\n",
       "    }\n",
       "</style>\n",
       "<table border=\"1\" class=\"dataframe\">\n",
       "  <thead>\n",
       "    <tr style=\"text-align: right;\">\n",
       "      <th></th>\n",
       "      <th>title</th>\n",
       "      <th>genres</th>\n",
       "      <th>runtime</th>\n",
       "      <th>vote_average</th>\n",
       "      <th>vote_count</th>\n",
       "      <th>release_year</th>\n",
       "      <th>overview</th>\n",
       "      <th>id</th>\n",
       "    </tr>\n",
       "  </thead>\n",
       "  <tbody>\n",
       "    <tr>\n",
       "      <th>0</th>\n",
       "      <td>Toy Story</td>\n",
       "      <td>['Animation', 'Comedy', 'Family']</td>\n",
       "      <td>81.0</td>\n",
       "      <td>7.7</td>\n",
       "      <td>5415.0</td>\n",
       "      <td>1995.0</td>\n",
       "      <td>Led by Woody, Andy's toys live happily in his ...</td>\n",
       "      <td>862</td>\n",
       "    </tr>\n",
       "    <tr>\n",
       "      <th>1</th>\n",
       "      <td>Jumanji</td>\n",
       "      <td>['Adventure', 'Fantasy', 'Family']</td>\n",
       "      <td>104.0</td>\n",
       "      <td>6.9</td>\n",
       "      <td>2413.0</td>\n",
       "      <td>1995.0</td>\n",
       "      <td>When siblings Judy and Peter discover an encha...</td>\n",
       "      <td>8844</td>\n",
       "    </tr>\n",
       "    <tr>\n",
       "      <th>2</th>\n",
       "      <td>Grumpier Old Men</td>\n",
       "      <td>['Romance', 'Comedy']</td>\n",
       "      <td>101.0</td>\n",
       "      <td>6.5</td>\n",
       "      <td>92.0</td>\n",
       "      <td>1995.0</td>\n",
       "      <td>A family wedding reignites the ancient feud be...</td>\n",
       "      <td>15602</td>\n",
       "    </tr>\n",
       "    <tr>\n",
       "      <th>3</th>\n",
       "      <td>Waiting to Exhale</td>\n",
       "      <td>['Comedy', 'Drama', 'Romance']</td>\n",
       "      <td>127.0</td>\n",
       "      <td>6.1</td>\n",
       "      <td>34.0</td>\n",
       "      <td>1995.0</td>\n",
       "      <td>Cheated on, mistreated and stepped on, the wom...</td>\n",
       "      <td>31357</td>\n",
       "    </tr>\n",
       "    <tr>\n",
       "      <th>4</th>\n",
       "      <td>Father of the Bride Part II</td>\n",
       "      <td>['Comedy']</td>\n",
       "      <td>106.0</td>\n",
       "      <td>5.7</td>\n",
       "      <td>173.0</td>\n",
       "      <td>1995.0</td>\n",
       "      <td>Just when George Banks has recovered from his ...</td>\n",
       "      <td>11862</td>\n",
       "    </tr>\n",
       "  </tbody>\n",
       "</table>\n",
       "</div>"
      ],
      "text/plain": [
       "                         title                              genres  runtime  \\\n",
       "0                    Toy Story   ['Animation', 'Comedy', 'Family']     81.0   \n",
       "1                      Jumanji  ['Adventure', 'Fantasy', 'Family']    104.0   \n",
       "2             Grumpier Old Men               ['Romance', 'Comedy']    101.0   \n",
       "3            Waiting to Exhale      ['Comedy', 'Drama', 'Romance']    127.0   \n",
       "4  Father of the Bride Part II                          ['Comedy']    106.0   \n",
       "\n",
       "   vote_average  vote_count  release_year  \\\n",
       "0           7.7      5415.0        1995.0   \n",
       "1           6.9      2413.0        1995.0   \n",
       "2           6.5        92.0        1995.0   \n",
       "3           6.1        34.0        1995.0   \n",
       "4           5.7       173.0        1995.0   \n",
       "\n",
       "                                            overview     id  \n",
       "0  Led by Woody, Andy's toys live happily in his ...    862  \n",
       "1  When siblings Judy and Peter discover an encha...   8844  \n",
       "2  A family wedding reignites the ancient feud be...  15602  \n",
       "3  Cheated on, mistreated and stepped on, the wom...  31357  \n",
       "4  Just when George Banks has recovered from his ...  11862  "
      ]
     },
     "execution_count": 4,
     "metadata": {},
     "output_type": "execute_result"
    }
   ],
   "source": [
    "orig_df_metadata = pd.read_csv(data_dir(\"raw\", \"movies_metadata.csv\"), low_memory= False)\n",
    "\n",
    "df_metadata['overview'], df_metadata['id'] = orig_df_metadata['overview'], orig_df_metadata['id']\n",
    "\n",
    "df_metadata.head()"
   ]
  },
  {
   "cell_type": "markdown",
   "metadata": {},
   "source": [
    "Podemos ver que unieron correctamente (me dí cuenta leyendo por encima la sinopsis de Toy Story), en este caso además de la sinopsis de la película **'overview'** también uní la columna **'id'** para dejar ya el dataframe listo para unirlo con otros de la misma fuente que traen más información útil."
   ]
  },
  {
   "cell_type": "markdown",
   "metadata": {},
   "source": [
    "## Comparación de textos mediante vectores"
   ]
  },
  {
   "cell_type": "markdown",
   "metadata": {},
   "source": [
    "### Explicación general"
   ]
  },
  {
   "cell_type": "markdown",
   "metadata": {},
   "source": [
    "\n",
    "El objetivo de los modelos que vamos a construir es **comparar pares de textos**, en este caso, las sinopsis de las películas. Pero antes de proceder, surge una pregunta natural: **¿Cómo cuantificamos numéricamente la similitud entre dos textos distintos?**\n",
    "\n",
    "El primer paso para responder esta pregunta es convertir estos textos en estructuras matemáticas, y una que funciona muy bien en este caso **son los vectores**. La construcción de estos vectores se puede explicar de la siguiente manera:\n",
    "\n",
    "1. Tenemos 𝑛 textos distintos, supongamos que cada uno es el guión de una película.\n",
    "2. Realizamos el preprocesamiento adecuado para eliminar signos de puntuación, conectores y convertir todo a minúsculas.\n",
    "3. Tomamos las apariciones únicas de cada palabra en todos los textos. Por ejemplo, si \"auto\" aparece en tres textos distintos, la consideramos una sola vez. Este conjunto de palabras únicas se llama **\"vocabulario\"**.\n",
    "4. Luego, podemos contar la cantidad de apariciones de cada palabra disponible en el vocabulario. Esto nos proporciona una cantidad numérica, aunque varía según el tipo de vectores que usemos.\n",
    "5. Finalmente, comparamos número a número un texto A con el resto de los textos disponibles, analizando de a pares. El texto con palabras que aparecen de manera similar será considerado el **\"más parecido\"**.\n",
    "\n",
    "Como remarcaba en el punto 4, la forma de cuantificar puede variar según el tipo de vectores que usemos, o mejor dicho, **que vectorizador utilizemos**. De esto se desprenden 2 tipos de vectorizadores bastante usados a la hora de construir estos modelos: **\"CountVectorizer\" y \"TF-IDF Vectorizer\"**. "
   ]
  },
  {
   "cell_type": "markdown",
   "metadata": {},
   "source": [
    "### CountVectorizer"
   ]
  },
  {
   "cell_type": "markdown",
   "metadata": {},
   "source": [
    "El **\"CountVectorizer\"** es el tipo más simple de vectorizador, y es justamente el que se explicaba entre los puntos 4 y 5 del texto anterior. Sin embargo, podemos reforzar su idea con un ejemplo:\n",
    "\n",
    "Supongamos que tenemos 3 cadenas de texto A, B y C de la siguiente forma:\n",
    "\n",
    "* **A:** \"El cielo está rojo\"\n",
    "* **B:** \"Los pantalones son azules\"\n",
    "* **C:** \"La remera es color rojo\"\n",
    "\n",
    "Ahora es cuando entra en juego **\"CountVectorizer\"** para convertir estas 3 cadenas de texto a su forma vectorial y poder compararlas. Para eso, extraemos el \"vocabulario\" de los 3 textos en conjunto: \n",
    "\n",
    "* El, cielo, Los, pantalones, son, está, rojo, azules, La, remera, es, color\n",
    "\n",
    "En total tenemos **12 palabras distintas**. Notemos que la palabra \"rojo\" apareció 2 veces entre los 3 textos, pero para esto solo debe considerarse una sola vez. Una práctica común al construir estos vectores es eliminar palabras muy comunes, que en este caso son los conectores (El, La, Los...), obteniendo un vocabulario de la siguiente forma:\n",
    "\n",
    "* cielo, pantalones, rojo, azules, remera, color\n",
    "\n",
    "Vemos que hemos reducido el vocabulario a **solo 6 palabras**, y ahora estamos en condiciones de construir los vectores correspondientes a los textos. Para este caso, tendremos vectores de 6 dimensiones para cada texto, donde cada dimensión representa la cantidad de veces que una palabra aparece, tomando la siguiente forma:\n",
    "\n",
    "* **A:** (1, 0, 1, 0, 0, 0)\n",
    "* **B:** (0, 1, 0, 1, 0, 0)\n",
    "* **C:** (0, 0, 1, 0, 1, 1)\n",
    "\n",
    "Observando estos vectores, **podemos deducir que el texto A es parecido al texto C**, ya que en ambos aparece la palabra \"rojo\", y esto está representado en sus vectores. Para la dimensión \"rojo\" (por darle un nombre), hay un 1 en ambos."
   ]
  },
  {
   "cell_type": "markdown",
   "metadata": {},
   "source": [
    "### TF-IDF Vectorizer\n",
    "\n",
    "No todas las palabras en un documento tienen el mismo peso. Ya observamos esto cuando eliminamos los conectores de nuestro vocabulario. Sin embargo, las palabras que permanecieron en el vocabulario fueron ponderadas de manera igual, es decir, **todas tenían el mismo peso**.\n",
    "\n",
    "**¿Pero debería ser siempre así?**\n",
    "\n",
    "Por ejemplo, si consideramos un texto sobre autos. Es obvio que en todos estos documentos las palabras \"auto\" o \"velocidad\" van a aparecer frecuentemente. Por lo tanto, la aparición de estas palabras **no es tan importante** como otras palabras que solo aparecen en unos pocos documentos.\n",
    "\n",
    "Entonces es cuando aparece **TF-IDF Vectorizer** (Term Frequency-Inverse Document Frequency), que toma en cuenta este punto y asigna pesos a cada palabra según la siguiente fórmula. Para cada palabra \\( i \\) en el documento \\( j \\), se aplica lo siguiente:\n",
    "\n",
    "![Formula TF-IDFVectorizer](../data/images/tf_idf_formula.png)\n",
    "\n",
    "En esta fórmula, lo siguiente es cierto:\n",
    "\n",
    "- **\\( w_{i,j} \\)** es el peso de la palabra \\( i \\) en el documento \\( j \\)\n",
    "- **\\( tf_{i,j} \\)** es la frecuencia de la palabra \\( i \\) en el documento \\( j \\)\n",
    "- **\\( df_i \\)** es el número de documentos que contienen el término \\( i \\)\n",
    "- **\\( N \\)** es el número total de documentos\n",
    "\n",
    "No voy a entrar en detalles sobre la ecuación y como se calcula. Solo hay que tener en cuenta que el peso de una palabra en un documento **es mayor si aparece con más frecuencia en ese documento y está presente en menos documentos**. El peso **\\( w_{i,j} \\)** toma valores entre 0 y 1."
   ]
  },
  {
   "cell_type": "markdown",
   "metadata": {},
   "source": [
    "## Vectorizando las sinopsis de las películas"
   ]
  },
  {
   "cell_type": "markdown",
   "metadata": {},
   "source": [
    "Podemos ver que **'overview'** consiste principalmente en un texto explicando de que va la película, lo ideal sería hacer algo de limpieza sobre esta columna quitando todos los signos de puntuación y llevando todas las palabras a mínusculas, por suerte tenemos a la librería **scikit-learn** que posee funciones que harán todo este trabajo.\n",
    "\n",
    "En este caso esas \"funciones\" vienen en la clase **TfidfVectorizer**, que justamente representa al vectorizador que usaremos para representar numéricamente las sinopsis de las películas. La decisión de tomar este vectorizador viene dada por **su robustez** expuesta en los textos anteriores.\n",
    "\n",
    "**Otra acotación importante es que por temas de cálculo y eficiencia estaré filtrando el dataframe para solo quedarme con películas lanzadas entre los años 1980 y 2010**"
   ]
  },
  {
   "cell_type": "code",
   "execution_count": 5,
   "metadata": {},
   "outputs": [
    {
     "name": "stdout",
     "output_type": "stream",
     "text": [
      "(22316, 54673)\n"
     ]
    }
   ],
   "source": [
    "from sklearn.feature_extraction.text import TfidfVectorizer\n",
    "\n",
    "# Filtro el DataFrame para quedarme con películas entre 1980 y 2010 y reseteo los índices\n",
    "df_metadata_filtered = df_metadata[(df_metadata['release_year'] >= 1980) & (df_metadata['release_year'] <= 2010)].copy()\n",
    "df_metadata_filtered.reset_index(drop=True, inplace=True)\n",
    "\n",
    "# Inicializo el vectorizador y que elimine los conectores en inglés\n",
    "tfidf = TfidfVectorizer(stop_words='english')\n",
    "\n",
    "# Reemplazo los valores nulos en 'overview' por strings vacios\n",
    "df_metadata_filtered['overview'] = df_metadata_filtered['overview'].fillna('')\n",
    "\n",
    "# Obtengo la matriz tfidf\n",
    "tfidf_matrix = tfidf.fit_transform(df_metadata_filtered['overview'])\n",
    "print(tfidf_matrix.shape)"
   ]
  },
  {
   "cell_type": "markdown",
   "metadata": {},
   "source": [
    "Obtuvimos como resultado una matriz de **22316 películas y un vocabulario de 54673 palabras** para cada una."
   ]
  },
  {
   "cell_type": "markdown",
   "metadata": {},
   "source": [
    "## Usando puntajes de similitud"
   ]
  },
  {
   "cell_type": "markdown",
   "metadata": {},
   "source": [
    "Ahora que hemos vectorizado la sinopsis de cada película, el último paso para desarrollar nuestro sistema de recomendación es comparar las películas de a pares. Para esto, necesitamos una métrica adecuada, y aquí es donde entra en juego el **puntaje de similitud coseno**. Aunque existen otras métricas, esta es una de las más robustas para comparar vectores.\n",
    "\n",
    "Como su nombre indica, esta métrica se basa en la función trigonométrica **coseno**, que mide el ángulo entre dos vectores. En nuestro caso, los vectores representan las sinopsis de las películas. Si dos vectores están \"cerca\", es decir, si el ángulo entre ellos es pequeño, significa que las películas representadas por estos vectores son similares. A continuación, se muestra una imagen que ilustra este concepto:\n",
    "\n",
    "![Ángulo entre dos vectores](../data/images/angulo_coseno.png)\n",
    "\n",
    "La función coseno nos dice que si el ángulo entre dos vectores está cerca de 0 grados, los vectores son similares, y si está cerca de 180 grados, los vectores son distintos. Por lo tanto, un puntaje cercano a 1 indica alta similitud, mientras que un puntaje cercano a -1 indica baja similitud. La fórmula para calcular la similitud coseno se muestra a continuación:\n",
    "\n",
    "![Fórmula de similitud coseno](../data/images/cosineSim_formual.png)\n",
    "\n",
    "En esta fórmula, los vectores A y B se comparan. En el contexto de películas, podemos considerar que A representa una película fija, mientras que B varía para comparar diferentes películas con A."
   ]
  },
  {
   "cell_type": "markdown",
   "metadata": {},
   "source": [
    "Como antes usamos **el vectorizador TF-IDF** sabemos que la norma de nuestros vectores es 1, por lo tanto no tenemos que calcular el denominador en la ecuación, solo el producto punto. En este caso el producto punto se da entre la matriz misma por su traspuesta, resultando una matriz cuadrada de **nXn** donde **n** es la cantidad de películas y que representa a todas las películas comparadas contra todas.\n",
    "\n",
    "Para calcular dicho producto usaremos de vuelta **scikit-learn** ya que nos ofrece la función **linear_kernel** que nos ayuda con este cálculo:"
   ]
  },
  {
   "cell_type": "code",
   "execution_count": 6,
   "metadata": {},
   "outputs": [],
   "source": [
    "from sklearn.metrics.pairwise import linear_kernel\n",
    "\n",
    "cosine_sim = linear_kernel(tfidf_matrix, tfidf_matrix)"
   ]
  },
  {
   "cell_type": "markdown",
   "metadata": {},
   "source": [
    "## Creando el sistema de recomendación y poniéndolo a prueba"
   ]
  },
  {
   "cell_type": "markdown",
   "metadata": {},
   "source": [
    "Ya tenemos todo lo necesario, fuimos desde vectorizar las sinopsis de las películas hasta compararlas entre sí usando el **puntaje de similutd coseno**, lo último que nos queda es poner a prueba nuestro sistema de recomendación. Ahora lo ideal es pedir recomendaciones de algunas películas, una que en lo personal me gusta mucho es **Rocky IV**, veamos que resultados nos devuelve: "
   ]
  },
  {
   "cell_type": "code",
   "execution_count": 7,
   "metadata": {},
   "outputs": [
    {
     "data": {
      "text/html": [
       "<div>\n",
       "<style scoped>\n",
       "    .dataframe tbody tr th:only-of-type {\n",
       "        vertical-align: middle;\n",
       "    }\n",
       "\n",
       "    .dataframe tbody tr th {\n",
       "        vertical-align: top;\n",
       "    }\n",
       "\n",
       "    .dataframe thead th {\n",
       "        text-align: right;\n",
       "    }\n",
       "</style>\n",
       "<table border=\"1\" class=\"dataframe\">\n",
       "  <thead>\n",
       "    <tr style=\"text-align: right;\">\n",
       "      <th></th>\n",
       "      <th>Pelicula</th>\n",
       "      <th>Similitud</th>\n",
       "    </tr>\n",
       "  </thead>\n",
       "  <tbody>\n",
       "    <tr>\n",
       "      <th>8132</th>\n",
       "      <td>Rocky Balboa</td>\n",
       "      <td>0.307879</td>\n",
       "    </tr>\n",
       "    <tr>\n",
       "      <th>18376</th>\n",
       "      <td>Aflatoon</td>\n",
       "      <td>0.257996</td>\n",
       "    </tr>\n",
       "    <tr>\n",
       "      <th>1913</th>\n",
       "      <td>Rocky V</td>\n",
       "      <td>0.243768</td>\n",
       "    </tr>\n",
       "    <tr>\n",
       "      <th>1911</th>\n",
       "      <td>Rocky III</td>\n",
       "      <td>0.219854</td>\n",
       "    </tr>\n",
       "    <tr>\n",
       "      <th>2844</th>\n",
       "      <td>The Adventures of Rocky &amp; Bullwinkle</td>\n",
       "      <td>0.176945</td>\n",
       "    </tr>\n",
       "    <tr>\n",
       "      <th>12399</th>\n",
       "      <td>Rocky VI</td>\n",
       "      <td>0.172023</td>\n",
       "    </tr>\n",
       "    <tr>\n",
       "      <th>11738</th>\n",
       "      <td>Fool N Final</td>\n",
       "      <td>0.165279</td>\n",
       "    </tr>\n",
       "    <tr>\n",
       "      <th>20671</th>\n",
       "      <td>Broken Hill</td>\n",
       "      <td>0.162133</td>\n",
       "    </tr>\n",
       "    <tr>\n",
       "      <th>20747</th>\n",
       "      <td>A Heartland Christmas</td>\n",
       "      <td>0.160987</td>\n",
       "    </tr>\n",
       "    <tr>\n",
       "      <th>2841</th>\n",
       "      <td>Chicken Run</td>\n",
       "      <td>0.157148</td>\n",
       "    </tr>\n",
       "  </tbody>\n",
       "</table>\n",
       "</div>"
      ],
      "text/plain": [
       "                                   Pelicula  Similitud\n",
       "8132                           Rocky Balboa   0.307879\n",
       "18376                              Aflatoon   0.257996\n",
       "1913                                Rocky V   0.243768\n",
       "1911                              Rocky III   0.219854\n",
       "2844   The Adventures of Rocky & Bullwinkle   0.176945\n",
       "12399                              Rocky VI   0.172023\n",
       "11738                          Fool N Final   0.165279\n",
       "20671                           Broken Hill   0.162133\n",
       "20747                 A Heartland Christmas   0.160987\n",
       "2841                            Chicken Run   0.157148"
      ]
     },
     "execution_count": 7,
     "metadata": {},
     "output_type": "execute_result"
    }
   ],
   "source": [
    "from utils.recommenders import recomendar_peli\n",
    "\n",
    "recomendar_peli('Rocky IV', cosine_sim, df_metadata_filtered)"
   ]
  },
  {
   "cell_type": "markdown",
   "metadata": {},
   "source": [
    "Entre las recomendaciones, podemos ver todas las películas relacionadas con la saga de Rocky, incluidas precuelas y secuelas, siendo **Rocky Balboa** la más destacada según nuestro sistema de recomendación.\n",
    "\n",
    "Sin embargo, hay algunas películas en las recomendaciones que podrían generar confusión, como **The Adventures of Rocky & Bullwinkle** y **Chicken Run**. A juzgar por sus títulos, no parecen estar relacionadas con el boxeo. Veamos qué dicen sus sinopsis:"
   ]
  },
  {
   "cell_type": "code",
   "execution_count": 8,
   "metadata": {},
   "outputs": [
    {
     "name": "stdout",
     "output_type": "stream",
     "text": [
      "('Rocky and Bullwinkle have been living off the finances made from the reruns '\n",
      " 'of their cartoon show. Boris and Natasha somehow manage to crossover into '\n",
      " 'reality and team up with Fearless Leader, an evil criminal turned media '\n",
      " 'mogul with some evil plans up his sleeve. Rocky and Bullwinkle must stop the '\n",
      " 'three of them before they wreak havoc.')\n"
     ]
    }
   ],
   "source": [
    "from pprint import pprint  \n",
    "\n",
    "rocky_and_bullwinkle = df_metadata_filtered[df_metadata_filtered['title'] == 'The Adventures of Rocky & Bullwinkle']['overview'].values[0]\n",
    "\n",
    "pprint(rocky_and_bullwinkle)"
   ]
  },
  {
   "cell_type": "code",
   "execution_count": 9,
   "metadata": {},
   "outputs": [
    {
     "name": "stdout",
     "output_type": "stream",
     "text": [
      "('Having been hopelessly repressed and facing eventual certain death at the '\n",
      " 'British chicken farm where they are held, Rocky the american rooster and '\n",
      " 'Ginger the chicken decide to rebel against the evil Mr. and Mrs. Tweedy, the '\n",
      " \"farm's owners. Rocky and Ginger lead their fellow chickens in a great escape \"\n",
      " 'from the murderous farmers and their farm of doom.')\n"
     ]
    }
   ],
   "source": [
    "chicken_run = df_metadata_filtered[df_metadata_filtered['title'] == 'Chicken Run']['overview'].values[0]\n",
    "\n",
    "pprint(chicken_run)"
   ]
  },
  {
   "cell_type": "markdown",
   "metadata": {},
   "source": [
    "Ahora queda claro que estas películas no tienen nada que ver con el boxeo. Sin embargo, en ambas sinopsis **aparece la palabra \"Rocky\"**, lo que cumple con las condiciones del vectorizador TF-IDF para ser considerada una palabra de peso o importante: aparece pocas veces entre las sinopsis de todas las películas y, a su vez, varias veces en estas películas en particular.\n",
    "\n",
    "Ahora analicemos **Rocky IV** en detalle. Podemos observar a qué palabras se les asignó más peso, confirmando así lo que hemos mencionado:"
   ]
  },
  {
   "cell_type": "code",
   "execution_count": 10,
   "metadata": {},
   "outputs": [
    {
     "data": {
      "image/png": "[encoded data removed]",
      "text/plain": [
       "<Figure size 1000x600 with 1 Axes>"
      ]
     },
     "metadata": {},
     "output_type": "display_data"
    }
   ],
   "source": [
    "from utils.functions import plot_important_terms_for_movie\n",
    "\n",
    "plot_important_terms_for_movie('Rocky IV', df_metadata_filtered, tfidf, tfidf_matrix)"
   ]
  },
  {
   "cell_type": "markdown",
   "metadata": {},
   "source": [
    "Las palabras **\"Rocky\", \"Drago\", \"Creed\" y \"Apollo\"** son nombres de personajes principales de la saga, lo que confirma que los personajes clave tienen un peso significativo en el análisis TF-IDF. Además, términos como \"bout\" (combate), \"fighters\" (luchadores) y \"retirement\" (retiro) son relevantes, ya que están directamente relacionados con el tema de la película, que es el boxeo. Sin embargo, palabras como \"gargantuan\" (gigantesco) y \"comrade\" (camarada) pueden estar contextualizadas dentro de la trama de la película, pero podrían no ser tan representativas del género o del tema principal.\n",
    "\n",
    "Para mejorar el análisis, se podría agregar palabras clave de contexto cinematográfico. Por ejemplo, incluir nombres de actores principales como **\"Sylvester Stallone\" y \"Dolph Lundgren\"** puede proporcionar más contexto a la película. También, añadir el nombre del director, en este caso \"Sylvester Stallone\", sería útil. Palabras como \"1985\" pueden ser relevantes para identificar la época de la película, y términos como \"drama\" y \"deportes\" pueden ayudar a categorizar mejor la película.\n",
    "\n",
    "En cuanto al ajuste de pesos en el vectorizador TF-IDF, se puede hacer que no solo considere la frecuencia dentro de la sinopsis, **sino también su relevancia en el contexto cinematográfico**. Esto se puede lograr dando un peso extra a términos que se identifiquen previamente como importantes. Además, agregar campos adicionales en el análisis TF-IDF que incluyan información de actores, directores y género puede garantizar que estos términos se consideren adecuadamente en las recomendaciones."
   ]
  },
  {
   "cell_type": "markdown",
   "metadata": {},
   "source": [
    "Finalmente guardo en formato CSV el dataframe trabajado en este notebook ya que se seguirá usando más adelante:"
   ]
  },
  {
   "cell_type": "code",
   "execution_count": 11,
   "metadata": {},
   "outputs": [],
   "source": [
    "df_metadata_filtered.to_csv(data_dir(\"processed\", \"movies_metadata_filtered_2.csv\"), index=False)"
   ]
  }
 ],
 "metadata": {
  "kernelspec": {
   "display_name": "SisRecomendacion",
   "language": "python",
   "name": "python3"
  },
  "language_info": {
   "codemirror_mode": {
    "name": "ipython",
    "version": 3
   },
   "file_extension": ".py",
   "mimetype": "text/x-python",
   "name": "python",
   "nbconvert_exporter": "python",
   "pygments_lexer": "ipython3",
   "version": "3.11.4"
  }
 },
 "nbformat": 4,
 "nbformat_minor": 2
}
