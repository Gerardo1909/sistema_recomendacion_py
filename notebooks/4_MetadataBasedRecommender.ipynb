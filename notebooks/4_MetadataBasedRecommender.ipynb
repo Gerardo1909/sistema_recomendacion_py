{
 "cells": [
  {
   "cell_type": "code",
   "execution_count": null,
   "metadata": {},
   "outputs": [],
   "source": [
    "#Esto me sirve para el correcto funcionamiento de las funciones importadas en este notebook\n",
    "%load_ext autoreload\n",
    "%autoreload 2"
   ]
  },
  {
   "cell_type": "markdown",
   "metadata": {},
   "source": [
    "# Sistema de recomendación basado en contenido: Parte II"
   ]
  },
  {
   "cell_type": "markdown",
   "metadata": {},
   "source": [
    "## Contexto"
   ]
  },
  {
   "cell_type": "markdown",
   "metadata": {},
   "source": [
    "En el notebook anterior desarrollamos el primer sistema de recomendación basado en contenido: este tomaba la sinopsis de la película y a partir de ahí tomaba su vocabulario para comparar con otras películas. Si bien las recomendaciones mejoraron bastante con respecto al **sistema de recomendación basado en conocimiento** desarrollado anteriormente aún sufría de **ciertos problemas con respecto a las palabras**. \n",
    "\n",
    "Un claro ejemplo se presentó cuando en el final del notebook anterior pedimos recomendaciones para la película **\"Rocky IV\"** y si bien devolvió películas parecidas (sus secuelas y precuelas), habían algunas que no tenían en lo absoluto que ver con **la saga Rocky** pero tenían justamente la palabra **\"Rocky\"** en su sinopsis. \n",
    "\n",
    "Ahora para arreglar este proeblema (o por lo menos intentarlo) voy a generar un segundo sistema de recomendación basado en contenido pero que esta vez tome en cuenta más datos acerca de la película, tales como el director, los actores principales, su año de estreno, entre otras cosas. Todo esto con el propósito de ver una mejora significativa en las recomendaciones y ver como se comporta."
   ]
  },
  {
   "cell_type": "markdown",
   "metadata": {},
   "source": [
    "## Carga de los datos"
   ]
  },
  {
   "cell_type": "markdown",
   "metadata": {},
   "source": [
    "Vamos a partir desde donde lo dejamos y para eso voy a cargar el dataframe filtrado con películas entre los años 1980 y 2000 que usamos anteriormente:"
   ]
  },
  {
   "cell_type": "code",
   "execution_count": 1,
   "metadata": {},
   "outputs": [],
   "source": [
    "#Importo las librerías a usar\n",
    "from utils.paths import crear_funcion_directorio\n",
    "import pandas as pd\n",
    "\n",
    "#Creo un acceso directo a la carpeta de data\n",
    "data_dir = crear_funcion_directorio(\"data\")\n",
    "\n",
    "#Cargo el dataset\n",
    "df_metadata = pd.read_csv(data_dir(\"processed\", \"movies_metadata_filtered_2.csv\"))"
   ]
  },
  {
   "cell_type": "markdown",
   "metadata": {},
   "source": [
    "Siguiendo en línea con lo que planteaba anteriormente en la parte de **contexto** voy a cargar unos dataframes que tienen información más detallada sobre las películas y que servirán para mejorar el sistema de recomendación:"
   ]
  },
  {
   "cell_type": "code",
   "execution_count": 2,
   "metadata": {},
   "outputs": [],
   "source": [
    "df_credits = pd.read_csv(data_dir(\"raw\", \"credits.csv\"))\n",
    "df_key = pd.read_csv(data_dir(\"raw\", \"keywords.csv\"))"
   ]
  },
  {
   "cell_type": "markdown",
   "metadata": {},
   "source": [
    "Vemos la información de ambos:"
   ]
  },
  {
   "cell_type": "code",
   "execution_count": 3,
   "metadata": {},
   "outputs": [
    {
     "data": {
      "text/html": [
       "<div>\n",
       "<style scoped>\n",
       "    .dataframe tbody tr th:only-of-type {\n",
       "        vertical-align: middle;\n",
       "    }\n",
       "\n",
       "    .dataframe tbody tr th {\n",
       "        vertical-align: top;\n",
       "    }\n",
       "\n",
       "    .dataframe thead th {\n",
       "        text-align: right;\n",
       "    }\n",
       "</style>\n",
       "<table border=\"1\" class=\"dataframe\">\n",
       "  <thead>\n",
       "    <tr style=\"text-align: right;\">\n",
       "      <th></th>\n",
       "      <th>cast</th>\n",
       "      <th>crew</th>\n",
       "      <th>id</th>\n",
       "    </tr>\n",
       "  </thead>\n",
       "  <tbody>\n",
       "    <tr>\n",
       "      <th>0</th>\n",
       "      <td>[{'cast_id': 14, 'character': 'Woody (voice)',...</td>\n",
       "      <td>[{'credit_id': '52fe4284c3a36847f8024f49', 'de...</td>\n",
       "      <td>862</td>\n",
       "    </tr>\n",
       "    <tr>\n",
       "      <th>1</th>\n",
       "      <td>[{'cast_id': 1, 'character': 'Alan Parrish', '...</td>\n",
       "      <td>[{'credit_id': '52fe44bfc3a36847f80a7cd1', 'de...</td>\n",
       "      <td>8844</td>\n",
       "    </tr>\n",
       "    <tr>\n",
       "      <th>2</th>\n",
       "      <td>[{'cast_id': 2, 'character': 'Max Goldman', 'c...</td>\n",
       "      <td>[{'credit_id': '52fe466a9251416c75077a89', 'de...</td>\n",
       "      <td>15602</td>\n",
       "    </tr>\n",
       "    <tr>\n",
       "      <th>3</th>\n",
       "      <td>[{'cast_id': 1, 'character': \"Savannah 'Vannah...</td>\n",
       "      <td>[{'credit_id': '52fe44779251416c91011acb', 'de...</td>\n",
       "      <td>31357</td>\n",
       "    </tr>\n",
       "    <tr>\n",
       "      <th>4</th>\n",
       "      <td>[{'cast_id': 1, 'character': 'George Banks', '...</td>\n",
       "      <td>[{'credit_id': '52fe44959251416c75039ed7', 'de...</td>\n",
       "      <td>11862</td>\n",
       "    </tr>\n",
       "  </tbody>\n",
       "</table>\n",
       "</div>"
      ],
      "text/plain": [
       "                                                cast  \\\n",
       "0  [{'cast_id': 14, 'character': 'Woody (voice)',...   \n",
       "1  [{'cast_id': 1, 'character': 'Alan Parrish', '...   \n",
       "2  [{'cast_id': 2, 'character': 'Max Goldman', 'c...   \n",
       "3  [{'cast_id': 1, 'character': \"Savannah 'Vannah...   \n",
       "4  [{'cast_id': 1, 'character': 'George Banks', '...   \n",
       "\n",
       "                                                crew     id  \n",
       "0  [{'credit_id': '52fe4284c3a36847f8024f49', 'de...    862  \n",
       "1  [{'credit_id': '52fe44bfc3a36847f80a7cd1', 'de...   8844  \n",
       "2  [{'credit_id': '52fe466a9251416c75077a89', 'de...  15602  \n",
       "3  [{'credit_id': '52fe44779251416c91011acb', 'de...  31357  \n",
       "4  [{'credit_id': '52fe44959251416c75039ed7', 'de...  11862  "
      ]
     },
     "execution_count": 3,
     "metadata": {},
     "output_type": "execute_result"
    }
   ],
   "source": [
    "df_credits.head()"
   ]
  },
  {
   "cell_type": "code",
   "execution_count": 4,
   "metadata": {},
   "outputs": [
    {
     "data": {
      "text/html": [
       "<div>\n",
       "<style scoped>\n",
       "    .dataframe tbody tr th:only-of-type {\n",
       "        vertical-align: middle;\n",
       "    }\n",
       "\n",
       "    .dataframe tbody tr th {\n",
       "        vertical-align: top;\n",
       "    }\n",
       "\n",
       "    .dataframe thead th {\n",
       "        text-align: right;\n",
       "    }\n",
       "</style>\n",
       "<table border=\"1\" class=\"dataframe\">\n",
       "  <thead>\n",
       "    <tr style=\"text-align: right;\">\n",
       "      <th></th>\n",
       "      <th>id</th>\n",
       "      <th>keywords</th>\n",
       "    </tr>\n",
       "  </thead>\n",
       "  <tbody>\n",
       "    <tr>\n",
       "      <th>0</th>\n",
       "      <td>862</td>\n",
       "      <td>[{'id': 931, 'name': 'jealousy'}, {'id': 4290,...</td>\n",
       "    </tr>\n",
       "    <tr>\n",
       "      <th>1</th>\n",
       "      <td>8844</td>\n",
       "      <td>[{'id': 10090, 'name': 'board game'}, {'id': 1...</td>\n",
       "    </tr>\n",
       "    <tr>\n",
       "      <th>2</th>\n",
       "      <td>15602</td>\n",
       "      <td>[{'id': 1495, 'name': 'fishing'}, {'id': 12392...</td>\n",
       "    </tr>\n",
       "    <tr>\n",
       "      <th>3</th>\n",
       "      <td>31357</td>\n",
       "      <td>[{'id': 818, 'name': 'based on novel'}, {'id':...</td>\n",
       "    </tr>\n",
       "    <tr>\n",
       "      <th>4</th>\n",
       "      <td>11862</td>\n",
       "      <td>[{'id': 1009, 'name': 'baby'}, {'id': 1599, 'n...</td>\n",
       "    </tr>\n",
       "  </tbody>\n",
       "</table>\n",
       "</div>"
      ],
      "text/plain": [
       "      id                                           keywords\n",
       "0    862  [{'id': 931, 'name': 'jealousy'}, {'id': 4290,...\n",
       "1   8844  [{'id': 10090, 'name': 'board game'}, {'id': 1...\n",
       "2  15602  [{'id': 1495, 'name': 'fishing'}, {'id': 12392...\n",
       "3  31357  [{'id': 818, 'name': 'based on novel'}, {'id':...\n",
       "4  11862  [{'id': 1009, 'name': 'baby'}, {'id': 1599, 'n..."
      ]
     },
     "execution_count": 4,
     "metadata": {},
     "output_type": "execute_result"
    }
   ],
   "source": [
    "df_key.head()"
   ]
  },
  {
   "cell_type": "markdown",
   "metadata": {},
   "source": [
    "Podemos ver que ambos tienen información más detallada sobre las películas, tales como el cast de la misma y el equipo de producción. Se puede ver también que esta información no está en un formato deseado, por lo tanto habrá que trabajar un poco con los datos."
   ]
  },
  {
   "cell_type": "markdown",
   "metadata": {},
   "source": [
    "## Preprocesando los datos"
   ]
  },
  {
   "cell_type": "markdown",
   "metadata": {},
   "source": [
    "### Unificando los datos"
   ]
  },
  {
   "cell_type": "markdown",
   "metadata": {},
   "source": [
    "Lo ideal sería juntar los dos dataframes **'df_key'** y  **'df_credits'** con el dataframe principal para así tener toda la información en un único lugar. Para abarcar esto podemos usar la columna **'id'** presente en los 3 dataframes para así hacer **un Join**, pero primero debemos verificar que los datos en la misma estén correctos:"
   ]
  },
  {
   "cell_type": "code",
   "execution_count": 5,
   "metadata": {},
   "outputs": [
    {
     "name": "stdout",
     "output_type": "stream",
     "text": [
      "<class 'pandas.core.frame.DataFrame'>\n",
      "RangeIndex: 22316 entries, 0 to 22315\n",
      "Data columns (total 8 columns):\n",
      " #   Column        Non-Null Count  Dtype  \n",
      "---  ------        --------------  -----  \n",
      " 0   title         22316 non-null  object \n",
      " 1   genres        22316 non-null  object \n",
      " 2   runtime       22208 non-null  float64\n",
      " 3   vote_average  22316 non-null  float64\n",
      " 4   vote_count    22316 non-null  float64\n",
      " 5   release_year  22316 non-null  float64\n",
      " 6   overview      21828 non-null  object \n",
      " 7   id            22316 non-null  int64  \n",
      "dtypes: float64(4), int64(1), object(3)\n",
      "memory usage: 1.4+ MB\n"
     ]
    }
   ],
   "source": [
    "df_metadata.info()"
   ]
  },
  {
   "cell_type": "markdown",
   "metadata": {},
   "source": [
    "Podemos ver que la columna **'id'** en nuestro dataframe principal es de tipo **'object'**, cosa que no queremos y por lo tanto debemos convertirla a tipo entero: "
   ]
  },
  {
   "cell_type": "code",
   "execution_count": 6,
   "metadata": {},
   "outputs": [],
   "source": [
    "try:\n",
    "    df_metadata['id'] = df_metadata['id'].astype(int)\n",
    "except(Exception) as e:\n",
    "    print(e)"
   ]
  },
  {
   "cell_type": "markdown",
   "metadata": {},
   "source": [
    "Vemos que no podemos convertir la columna al tipo entero de primeras, por lo tanto debemos hacer algo de trabajo eliminando la información no deseada en esta misma:"
   ]
  },
  {
   "cell_type": "code",
   "execution_count": 7,
   "metadata": {},
   "outputs": [],
   "source": [
    "from utils.functions import limpiar_ids\n",
    "\n",
    "# Convierto los id´s no deseados a nulos\n",
    "df_metadata['id'] = df_metadata['id'].apply(limpiar_ids)\n",
    "\n",
    "# Elimino los valores nulos en 'id'\n",
    "df_metadata = df_metadata[df_metadata['id'].notnull()]"
   ]
  },
  {
   "cell_type": "markdown",
   "metadata": {},
   "source": [
    "Otra cosa antes de hacer el join es también convertir las columnas de **'id'** en **'df_key'** y  **'df_credits'** a tipo entero y además eliminar duplicados para evitar problemas:"
   ]
  },
  {
   "cell_type": "code",
   "execution_count": 8,
   "metadata": {},
   "outputs": [],
   "source": [
    "# Convierto 'id' a tipo entero en ambos dfs\n",
    "df_credits['id'] = df_credits['id'].astype(int)\n",
    "df_key['id'] = df_key['id'].astype(int)\n",
    "\n",
    "# Elimino los duplicados en ambos dfs\n",
    "df_credits.drop_duplicates(inplace=True)\n",
    "df_key.drop_duplicates(inplace=True)"
   ]
  },
  {
   "cell_type": "markdown",
   "metadata": {},
   "source": [
    "Finalmente podemos juntar los 3 dataframes en uno solo:"
   ]
  },
  {
   "cell_type": "code",
   "execution_count": 9,
   "metadata": {},
   "outputs": [
    {
     "data": {
      "text/html": [
       "<div>\n",
       "<style scoped>\n",
       "    .dataframe tbody tr th:only-of-type {\n",
       "        vertical-align: middle;\n",
       "    }\n",
       "\n",
       "    .dataframe tbody tr th {\n",
       "        vertical-align: top;\n",
       "    }\n",
       "\n",
       "    .dataframe thead th {\n",
       "        text-align: right;\n",
       "    }\n",
       "</style>\n",
       "<table border=\"1\" class=\"dataframe\">\n",
       "  <thead>\n",
       "    <tr style=\"text-align: right;\">\n",
       "      <th></th>\n",
       "      <th>title</th>\n",
       "      <th>genres</th>\n",
       "      <th>runtime</th>\n",
       "      <th>vote_average</th>\n",
       "      <th>vote_count</th>\n",
       "      <th>release_year</th>\n",
       "      <th>overview</th>\n",
       "      <th>id</th>\n",
       "      <th>cast</th>\n",
       "      <th>crew</th>\n",
       "      <th>keywords</th>\n",
       "    </tr>\n",
       "  </thead>\n",
       "  <tbody>\n",
       "    <tr>\n",
       "      <th>0</th>\n",
       "      <td>Toy Story</td>\n",
       "      <td>['Animation', 'Comedy', 'Family']</td>\n",
       "      <td>81.0</td>\n",
       "      <td>7.7</td>\n",
       "      <td>5415.0</td>\n",
       "      <td>1995.0</td>\n",
       "      <td>Led by Woody, Andy's toys live happily in his ...</td>\n",
       "      <td>862</td>\n",
       "      <td>[{'cast_id': 14, 'character': 'Woody (voice)',...</td>\n",
       "      <td>[{'credit_id': '52fe4284c3a36847f8024f49', 'de...</td>\n",
       "      <td>[{'id': 931, 'name': 'jealousy'}, {'id': 4290,...</td>\n",
       "    </tr>\n",
       "    <tr>\n",
       "      <th>1</th>\n",
       "      <td>Jumanji</td>\n",
       "      <td>['Adventure', 'Fantasy', 'Family']</td>\n",
       "      <td>104.0</td>\n",
       "      <td>6.9</td>\n",
       "      <td>2413.0</td>\n",
       "      <td>1995.0</td>\n",
       "      <td>When siblings Judy and Peter discover an encha...</td>\n",
       "      <td>8844</td>\n",
       "      <td>[{'cast_id': 1, 'character': 'Alan Parrish', '...</td>\n",
       "      <td>[{'credit_id': '52fe44bfc3a36847f80a7cd1', 'de...</td>\n",
       "      <td>[{'id': 10090, 'name': 'board game'}, {'id': 1...</td>\n",
       "    </tr>\n",
       "    <tr>\n",
       "      <th>2</th>\n",
       "      <td>Grumpier Old Men</td>\n",
       "      <td>['Romance', 'Comedy']</td>\n",
       "      <td>101.0</td>\n",
       "      <td>6.5</td>\n",
       "      <td>92.0</td>\n",
       "      <td>1995.0</td>\n",
       "      <td>A family wedding reignites the ancient feud be...</td>\n",
       "      <td>15602</td>\n",
       "      <td>[{'cast_id': 2, 'character': 'Max Goldman', 'c...</td>\n",
       "      <td>[{'credit_id': '52fe466a9251416c75077a89', 'de...</td>\n",
       "      <td>[{'id': 1495, 'name': 'fishing'}, {'id': 12392...</td>\n",
       "    </tr>\n",
       "    <tr>\n",
       "      <th>3</th>\n",
       "      <td>Waiting to Exhale</td>\n",
       "      <td>['Comedy', 'Drama', 'Romance']</td>\n",
       "      <td>127.0</td>\n",
       "      <td>6.1</td>\n",
       "      <td>34.0</td>\n",
       "      <td>1995.0</td>\n",
       "      <td>Cheated on, mistreated and stepped on, the wom...</td>\n",
       "      <td>31357</td>\n",
       "      <td>[{'cast_id': 1, 'character': \"Savannah 'Vannah...</td>\n",
       "      <td>[{'credit_id': '52fe44779251416c91011acb', 'de...</td>\n",
       "      <td>[{'id': 818, 'name': 'based on novel'}, {'id':...</td>\n",
       "    </tr>\n",
       "    <tr>\n",
       "      <th>4</th>\n",
       "      <td>Father of the Bride Part II</td>\n",
       "      <td>['Comedy']</td>\n",
       "      <td>106.0</td>\n",
       "      <td>5.7</td>\n",
       "      <td>173.0</td>\n",
       "      <td>1995.0</td>\n",
       "      <td>Just when George Banks has recovered from his ...</td>\n",
       "      <td>11862</td>\n",
       "      <td>[{'cast_id': 1, 'character': 'George Banks', '...</td>\n",
       "      <td>[{'credit_id': '52fe44959251416c75039ed7', 'de...</td>\n",
       "      <td>[{'id': 1009, 'name': 'baby'}, {'id': 1599, 'n...</td>\n",
       "    </tr>\n",
       "  </tbody>\n",
       "</table>\n",
       "</div>"
      ],
      "text/plain": [
       "                         title                              genres  runtime  \\\n",
       "0                    Toy Story   ['Animation', 'Comedy', 'Family']     81.0   \n",
       "1                      Jumanji  ['Adventure', 'Fantasy', 'Family']    104.0   \n",
       "2             Grumpier Old Men               ['Romance', 'Comedy']    101.0   \n",
       "3            Waiting to Exhale      ['Comedy', 'Drama', 'Romance']    127.0   \n",
       "4  Father of the Bride Part II                          ['Comedy']    106.0   \n",
       "\n",
       "   vote_average  vote_count  release_year  \\\n",
       "0           7.7      5415.0        1995.0   \n",
       "1           6.9      2413.0        1995.0   \n",
       "2           6.5        92.0        1995.0   \n",
       "3           6.1        34.0        1995.0   \n",
       "4           5.7       173.0        1995.0   \n",
       "\n",
       "                                            overview     id  \\\n",
       "0  Led by Woody, Andy's toys live happily in his ...    862   \n",
       "1  When siblings Judy and Peter discover an encha...   8844   \n",
       "2  A family wedding reignites the ancient feud be...  15602   \n",
       "3  Cheated on, mistreated and stepped on, the wom...  31357   \n",
       "4  Just when George Banks has recovered from his ...  11862   \n",
       "\n",
       "                                                cast  \\\n",
       "0  [{'cast_id': 14, 'character': 'Woody (voice)',...   \n",
       "1  [{'cast_id': 1, 'character': 'Alan Parrish', '...   \n",
       "2  [{'cast_id': 2, 'character': 'Max Goldman', 'c...   \n",
       "3  [{'cast_id': 1, 'character': \"Savannah 'Vannah...   \n",
       "4  [{'cast_id': 1, 'character': 'George Banks', '...   \n",
       "\n",
       "                                                crew  \\\n",
       "0  [{'credit_id': '52fe4284c3a36847f8024f49', 'de...   \n",
       "1  [{'credit_id': '52fe44bfc3a36847f80a7cd1', 'de...   \n",
       "2  [{'credit_id': '52fe466a9251416c75077a89', 'de...   \n",
       "3  [{'credit_id': '52fe44779251416c91011acb', 'de...   \n",
       "4  [{'credit_id': '52fe44959251416c75039ed7', 'de...   \n",
       "\n",
       "                                            keywords  \n",
       "0  [{'id': 931, 'name': 'jealousy'}, {'id': 4290,...  \n",
       "1  [{'id': 10090, 'name': 'board game'}, {'id': 1...  \n",
       "2  [{'id': 1495, 'name': 'fishing'}, {'id': 12392...  \n",
       "3  [{'id': 818, 'name': 'based on novel'}, {'id':...  \n",
       "4  [{'id': 1009, 'name': 'baby'}, {'id': 1599, 'n...  "
      ]
     },
     "execution_count": 9,
     "metadata": {},
     "output_type": "execute_result"
    }
   ],
   "source": [
    "df_metadata = df_metadata.merge(df_credits, on=\"id\")\n",
    "df_metadata = df_metadata.merge(df_key, on=\"id\")\n",
    "\n",
    "df_metadata.head()"
   ]
  },
  {
   "cell_type": "markdown",
   "metadata": {},
   "source": [
    "### Convirtiendo la información a un formato accesible"
   ]
  },
  {
   "cell_type": "code",
   "execution_count": 10,
   "metadata": {},
   "outputs": [
    {
     "name": "stdout",
     "output_type": "stream",
     "text": [
      "<class 'pandas.core.frame.DataFrame'>\n",
      "RangeIndex: 22320 entries, 0 to 22319\n",
      "Data columns (total 11 columns):\n",
      " #   Column        Non-Null Count  Dtype  \n",
      "---  ------        --------------  -----  \n",
      " 0   title         22320 non-null  object \n",
      " 1   genres        22320 non-null  object \n",
      " 2   runtime       22212 non-null  float64\n",
      " 3   vote_average  22320 non-null  float64\n",
      " 4   vote_count    22320 non-null  float64\n",
      " 5   release_year  22320 non-null  float64\n",
      " 6   overview      21832 non-null  object \n",
      " 7   id            22320 non-null  int64  \n",
      " 8   cast          22320 non-null  object \n",
      " 9   crew          22320 non-null  object \n",
      " 10  keywords      22320 non-null  object \n",
      "dtypes: float64(4), int64(1), object(6)\n",
      "memory usage: 1.9+ MB\n"
     ]
    }
   ],
   "source": [
    "df_metadata.info()"
   ]
  },
  {
   "cell_type": "markdown",
   "metadata": {},
   "source": [
    "Ahora que tenemos toda la información necesaria en un solo dataframe debemos llevarla a una forma en que pueda hacer usable, más precisamente haremos lo siguiente:\n",
    "\n",
    "* Convertiré **'keywords'** en una lista de cadenas en donde cada una es una palabra clave (similar a como hicimos con los géneros en el primer notebook). La cantidad de palabras claves que incluiremos en la lista despúes será definida según un número\n",
    "* Convertiré **'cast'** en una lista de cadenas en donde cada una es el nombre de un actor, esta seguirá una estructura similar a **'keywords'**\n",
    "* Convertiré **'crew'** en **'director'**, así solo nos quedaremos con el director de la película\n",
    "\n",
    "Con estos cambios llevaremos los datos a la forma deseada y podremos generar el nuevo sistema de recomendación que deseamos. Estos cambios son para efectos prácticos y pueden cambiar en un futuro para tomar más features y hacer más profundo a nuestro sistema."
   ]
  },
  {
   "cell_type": "markdown",
   "metadata": {},
   "source": [
    "Primero debemos convertir a todos los features involucrados a su tipo correspondiente en Python:"
   ]
  },
  {
   "cell_type": "code",
   "execution_count": 11,
   "metadata": {},
   "outputs": [],
   "source": [
    "from ast import literal_eval\n",
    "\n",
    "features = ['cast', 'crew', 'keywords', 'genres']\n",
    "\n",
    "for feature in features:\n",
    "    df_metadata[feature] = df_metadata[feature].apply(literal_eval)"
   ]
  },
  {
   "cell_type": "markdown",
   "metadata": {},
   "source": [
    "Ahora paso a obtener la feature **'director'**, para eso analizamos la estructura del diccionario donde puedo conseguirla:"
   ]
  },
  {
   "cell_type": "code",
   "execution_count": 12,
   "metadata": {},
   "outputs": [
    {
     "data": {
      "text/plain": [
       "[{'credit_id': '52fe4284c3a36847f8024f49',\n",
       "  'department': 'Directing',\n",
       "  'gender': 2,\n",
       "  'id': 7879,\n",
       "  'job': 'Director',\n",
       "  'name': 'John Lasseter',\n",
       "  'profile_path': '/7EdqiNbr4FRjIhKHyPPdFfEEEFG.jpg'},\n",
       " {'credit_id': '52fe4284c3a36847f8024f4f',\n",
       "  'department': 'Writing',\n",
       "  'gender': 2,\n",
       "  'id': 12891,\n",
       "  'job': 'Screenplay',\n",
       "  'name': 'Joss Whedon',\n",
       "  'profile_path': '/dTiVsuaTVTeGmvkhcyJvKp2A5kr.jpg'}]"
      ]
     },
     "execution_count": 12,
     "metadata": {},
     "output_type": "execute_result"
    }
   ],
   "source": [
    "df_metadata.iloc[0]['crew'][:2]"
   ]
  },
  {
   "cell_type": "markdown",
   "metadata": {},
   "source": [
    "Podemos ver que en la clave **'job'** del diccionario está indicado que rol cumplia cada persona en la producción de la película, por ahora nos interesa quedarnos con el director pero esto luego podría servirnos para involucrar más personas en la información de la película. \n",
    "\n",
    "Ahora paso a generar la columna **'director'**:"
   ]
  },
  {
   "cell_type": "code",
   "execution_count": 13,
   "metadata": {},
   "outputs": [
    {
     "data": {
      "text/plain": [
       "0      John Lasseter\n",
       "1       Joe Johnston\n",
       "2      Howard Deutch\n",
       "3    Forest Whitaker\n",
       "4      Charles Shyer\n",
       "Name: director, dtype: object"
      ]
     },
     "execution_count": 13,
     "metadata": {},
     "output_type": "execute_result"
    }
   ],
   "source": [
    "from utils.functions import obtener_director\n",
    "\n",
    "df_metadata['director'] = df_metadata['crew'].apply(obtener_director)\n",
    "\n",
    "df_metadata['director'].head()"
   ]
  },
  {
   "cell_type": "markdown",
   "metadata": {},
   "source": [
    "Vemos que efectivamente se guardaron los nombres de los directores en la columna, ahora el siguiente paso es trabajar **'cast'** y **'keywords'**.\n",
    "\n",
    "Tanto **'cast'** como **'keywords'** son listas de diccionarios también y nosotros queremos quedarnos con cierta cantidad de nombres en ambos casos, es decir que debemos extraer la cantidad de nombres que queremos de la clave **'name'**. Vamos a usar una función que haga todo eso y que a modo de práctica se traiga **los primeros 5 nombres en cada caso**:"
   ]
  },
  {
   "cell_type": "code",
   "execution_count": 14,
   "metadata": {},
   "outputs": [],
   "source": [
    "from utils.functions import generar_lista\n",
    "\n",
    "cant_nombres = 5\n",
    "\n",
    "df_metadata['cast'] = df_metadata['cast'].apply(generar_lista, args=(cant_nombres,))\n",
    "df_metadata['keywords'] = df_metadata['keywords'].apply(generar_lista, args=(cant_nombres,))\n",
    "\n",
    "# Me quedo también con los primeros 5 generos en 'genres'\n",
    "df_metadata['genres'] = df_metadata['genres'].apply(lambda x: x[:cant_nombres])"
   ]
  },
  {
   "cell_type": "markdown",
   "metadata": {},
   "source": [
    "Ahora vamos a ver como quedó el dataframe luego de aplicados los cambios:"
   ]
  },
  {
   "cell_type": "code",
   "execution_count": 15,
   "metadata": {},
   "outputs": [
    {
     "data": {
      "text/html": [
       "<div>\n",
       "<style scoped>\n",
       "    .dataframe tbody tr th:only-of-type {\n",
       "        vertical-align: middle;\n",
       "    }\n",
       "\n",
       "    .dataframe tbody tr th {\n",
       "        vertical-align: top;\n",
       "    }\n",
       "\n",
       "    .dataframe thead th {\n",
       "        text-align: right;\n",
       "    }\n",
       "</style>\n",
       "<table border=\"1\" class=\"dataframe\">\n",
       "  <thead>\n",
       "    <tr style=\"text-align: right;\">\n",
       "      <th></th>\n",
       "      <th>title</th>\n",
       "      <th>cast</th>\n",
       "      <th>director</th>\n",
       "      <th>keywords</th>\n",
       "      <th>genres</th>\n",
       "    </tr>\n",
       "  </thead>\n",
       "  <tbody>\n",
       "    <tr>\n",
       "      <th>0</th>\n",
       "      <td>Toy Story</td>\n",
       "      <td>[Tom Hanks, Tim Allen, Don Rickles, Jim Varney...</td>\n",
       "      <td>John Lasseter</td>\n",
       "      <td>[jealousy, toy, boy, friendship, friends]</td>\n",
       "      <td>[Animation, Comedy, Family]</td>\n",
       "    </tr>\n",
       "    <tr>\n",
       "      <th>1</th>\n",
       "      <td>Jumanji</td>\n",
       "      <td>[Robin Williams, Jonathan Hyde, Kirsten Dunst,...</td>\n",
       "      <td>Joe Johnston</td>\n",
       "      <td>[board game, disappearance, based on children'...</td>\n",
       "      <td>[Adventure, Fantasy, Family]</td>\n",
       "    </tr>\n",
       "    <tr>\n",
       "      <th>2</th>\n",
       "      <td>Grumpier Old Men</td>\n",
       "      <td>[Walter Matthau, Jack Lemmon, Ann-Margret, Sop...</td>\n",
       "      <td>Howard Deutch</td>\n",
       "      <td>[fishing, best friend, duringcreditsstinger, o...</td>\n",
       "      <td>[Romance, Comedy]</td>\n",
       "    </tr>\n",
       "    <tr>\n",
       "      <th>3</th>\n",
       "      <td>Waiting to Exhale</td>\n",
       "      <td>[Whitney Houston, Angela Bassett, Loretta Devi...</td>\n",
       "      <td>Forest Whitaker</td>\n",
       "      <td>[based on novel, interracial relationship, sin...</td>\n",
       "      <td>[Comedy, Drama, Romance]</td>\n",
       "    </tr>\n",
       "    <tr>\n",
       "      <th>4</th>\n",
       "      <td>Father of the Bride Part II</td>\n",
       "      <td>[Steve Martin, Diane Keaton, Martin Short, Kim...</td>\n",
       "      <td>Charles Shyer</td>\n",
       "      <td>[baby, midlife crisis, confidence, aging, daug...</td>\n",
       "      <td>[Comedy]</td>\n",
       "    </tr>\n",
       "  </tbody>\n",
       "</table>\n",
       "</div>"
      ],
      "text/plain": [
       "                         title  \\\n",
       "0                    Toy Story   \n",
       "1                      Jumanji   \n",
       "2             Grumpier Old Men   \n",
       "3            Waiting to Exhale   \n",
       "4  Father of the Bride Part II   \n",
       "\n",
       "                                                cast         director  \\\n",
       "0  [Tom Hanks, Tim Allen, Don Rickles, Jim Varney...    John Lasseter   \n",
       "1  [Robin Williams, Jonathan Hyde, Kirsten Dunst,...     Joe Johnston   \n",
       "2  [Walter Matthau, Jack Lemmon, Ann-Margret, Sop...    Howard Deutch   \n",
       "3  [Whitney Houston, Angela Bassett, Loretta Devi...  Forest Whitaker   \n",
       "4  [Steve Martin, Diane Keaton, Martin Short, Kim...    Charles Shyer   \n",
       "\n",
       "                                            keywords  \\\n",
       "0          [jealousy, toy, boy, friendship, friends]   \n",
       "1  [board game, disappearance, based on children'...   \n",
       "2  [fishing, best friend, duringcreditsstinger, o...   \n",
       "3  [based on novel, interracial relationship, sin...   \n",
       "4  [baby, midlife crisis, confidence, aging, daug...   \n",
       "\n",
       "                         genres  \n",
       "0   [Animation, Comedy, Family]  \n",
       "1  [Adventure, Fantasy, Family]  \n",
       "2             [Romance, Comedy]  \n",
       "3      [Comedy, Drama, Romance]  \n",
       "4                      [Comedy]  "
      ]
     },
     "execution_count": 15,
     "metadata": {},
     "output_type": "execute_result"
    }
   ],
   "source": [
    "df_metadata[['title', 'cast', 'director', 'keywords', 'genres']].head()"
   ]
  },
  {
   "cell_type": "markdown",
   "metadata": {},
   "source": [
    "Vemos que todo funcionó como se deseaba y que ahora tenemos nuestros features en la forma que queremos.\n",
    "\n",
    "Ahora en los próximos pasos vamos a usar un vectorizador para generar las recomendaciones, pero hay que recordar como funciona este: separa palabras que no sean conectores y las guarda en un \"vocabulario\". Este comportamiento puede no ser el deseado cuando **tenemos ahora nombres de actores y directores**, ya que podemos pensar en **Ryan Gosling y Ryan Reynolds** los cuales son actores distintos pero al vectorizador detectar el primer nombre **'Ryan'** los tratará como una misma entidad.\n",
    "\n",
    "Por lo tanto hay que usar una función que haga el trabajo de llevar los nombres a minuculas y unirlos para que formen una sola palabra a ojos del vectorizador. Por lo tanto pasamos a aplicarla:"
   ]
  },
  {
   "cell_type": "code",
   "execution_count": 16,
   "metadata": {},
   "outputs": [],
   "source": [
    "from utils.functions import procesar_nombre\n",
    "\n",
    "for columna in ['cast', 'director', 'keywords', 'genres']:\n",
    "    df_metadata[columna] = df_metadata[columna].apply(procesar_nombre)"
   ]
  },
  {
   "cell_type": "markdown",
   "metadata": {},
   "source": [
    "Ahora verificamos de vuelta como están nuestras columnas:"
   ]
  },
  {
   "cell_type": "code",
   "execution_count": 17,
   "metadata": {},
   "outputs": [
    {
     "data": {
      "text/html": [
       "<div>\n",
       "<style scoped>\n",
       "    .dataframe tbody tr th:only-of-type {\n",
       "        vertical-align: middle;\n",
       "    }\n",
       "\n",
       "    .dataframe tbody tr th {\n",
       "        vertical-align: top;\n",
       "    }\n",
       "\n",
       "    .dataframe thead th {\n",
       "        text-align: right;\n",
       "    }\n",
       "</style>\n",
       "<table border=\"1\" class=\"dataframe\">\n",
       "  <thead>\n",
       "    <tr style=\"text-align: right;\">\n",
       "      <th></th>\n",
       "      <th>title</th>\n",
       "      <th>cast</th>\n",
       "      <th>director</th>\n",
       "      <th>keywords</th>\n",
       "      <th>genres</th>\n",
       "    </tr>\n",
       "  </thead>\n",
       "  <tbody>\n",
       "    <tr>\n",
       "      <th>0</th>\n",
       "      <td>Toy Story</td>\n",
       "      <td>[tomhanks, timallen, donrickles, jimvarney, wa...</td>\n",
       "      <td>johnlasseter</td>\n",
       "      <td>[jealousy, toy, boy, friendship, friends]</td>\n",
       "      <td>[animation, comedy, family]</td>\n",
       "    </tr>\n",
       "    <tr>\n",
       "      <th>1</th>\n",
       "      <td>Jumanji</td>\n",
       "      <td>[robinwilliams, jonathanhyde, kirstendunst, br...</td>\n",
       "      <td>joejohnston</td>\n",
       "      <td>[boardgame, disappearance, basedonchildren'sbo...</td>\n",
       "      <td>[adventure, fantasy, family]</td>\n",
       "    </tr>\n",
       "    <tr>\n",
       "      <th>2</th>\n",
       "      <td>Grumpier Old Men</td>\n",
       "      <td>[waltermatthau, jacklemmon, ann-margret, sophi...</td>\n",
       "      <td>howarddeutch</td>\n",
       "      <td>[fishing, bestfriend, duringcreditsstinger, ol...</td>\n",
       "      <td>[romance, comedy]</td>\n",
       "    </tr>\n",
       "    <tr>\n",
       "      <th>3</th>\n",
       "      <td>Waiting to Exhale</td>\n",
       "      <td>[whitneyhouston, angelabassett, lorettadevine,...</td>\n",
       "      <td>forestwhitaker</td>\n",
       "      <td>[basedonnovel, interracialrelationship, single...</td>\n",
       "      <td>[comedy, drama, romance]</td>\n",
       "    </tr>\n",
       "    <tr>\n",
       "      <th>4</th>\n",
       "      <td>Father of the Bride Part II</td>\n",
       "      <td>[stevemartin, dianekeaton, martinshort, kimber...</td>\n",
       "      <td>charlesshyer</td>\n",
       "      <td>[baby, midlifecrisis, confidence, aging, daugh...</td>\n",
       "      <td>[comedy]</td>\n",
       "    </tr>\n",
       "  </tbody>\n",
       "</table>\n",
       "</div>"
      ],
      "text/plain": [
       "                         title  \\\n",
       "0                    Toy Story   \n",
       "1                      Jumanji   \n",
       "2             Grumpier Old Men   \n",
       "3            Waiting to Exhale   \n",
       "4  Father of the Bride Part II   \n",
       "\n",
       "                                                cast        director  \\\n",
       "0  [tomhanks, timallen, donrickles, jimvarney, wa...    johnlasseter   \n",
       "1  [robinwilliams, jonathanhyde, kirstendunst, br...     joejohnston   \n",
       "2  [waltermatthau, jacklemmon, ann-margret, sophi...    howarddeutch   \n",
       "3  [whitneyhouston, angelabassett, lorettadevine,...  forestwhitaker   \n",
       "4  [stevemartin, dianekeaton, martinshort, kimber...    charlesshyer   \n",
       "\n",
       "                                            keywords  \\\n",
       "0          [jealousy, toy, boy, friendship, friends]   \n",
       "1  [boardgame, disappearance, basedonchildren'sbo...   \n",
       "2  [fishing, bestfriend, duringcreditsstinger, ol...   \n",
       "3  [basedonnovel, interracialrelationship, single...   \n",
       "4  [baby, midlifecrisis, confidence, aging, daugh...   \n",
       "\n",
       "                         genres  \n",
       "0   [animation, comedy, family]  \n",
       "1  [adventure, fantasy, family]  \n",
       "2             [romance, comedy]  \n",
       "3      [comedy, drama, romance]  \n",
       "4                      [comedy]  "
      ]
     },
     "execution_count": 17,
     "metadata": {},
     "output_type": "execute_result"
    }
   ],
   "source": [
    "df_metadata[['title', 'cast', 'director', 'keywords', 'genres']].head()"
   ]
  },
  {
   "cell_type": "markdown",
   "metadata": {},
   "source": [
    "### Juntando los metadatos"
   ]
  },
  {
   "cell_type": "markdown",
   "metadata": {},
   "source": [
    "En el notebook anterior, cuando trabajamos con la sinopsis de las películas **'overview'** esta columna venía como una larga cadena de texto, ahora que tenemos todas nuestras features de interés en el formato que deseamos deberíamos lograr lo mismo **uniéndolas a todas**. Para eso voy a usar una función que logre obtener esta cadena en una sola columna llamada **'features_soup'** para así luego vectorizarla:"
   ]
  },
  {
   "cell_type": "code",
   "execution_count": 18,
   "metadata": {},
   "outputs": [
    {
     "data": {
      "text/plain": [
       "'jealousy toy boy friendship friends tomhanks timallen donrickles jimvarney wallaceshawn johnlasseter animation comedy family'"
      ]
     },
     "execution_count": 18,
     "metadata": {},
     "output_type": "execute_result"
    }
   ],
   "source": [
    "from utils.functions import juntar_features\n",
    "\n",
    "df_metadata['features_soup'] = df_metadata.apply(juntar_features, axis=1)\n",
    "\n",
    "#Vemos por pantalla como se ve está columna\n",
    "df_metadata['features_soup'].iloc[0]"
   ]
  },
  {
   "cell_type": "markdown",
   "metadata": {},
   "source": [
    "Ahora con nuestra columna que reune todos los metadatos relevantes de la película estamos en una buena posición para **vectorizar esta información y calcular el puntaje de similitud coseno**."
   ]
  },
  {
   "cell_type": "markdown",
   "metadata": {},
   "source": [
    "## Construyendo el sistema de recomendación"
   ]
  },
  {
   "cell_type": "markdown",
   "metadata": {},
   "source": [
    "Lo siguiente es vectorizar la columna **'features_soup'** para poder calcular el puntaje de similitud coseno, pero en este caso **el vectorizador que se usará es distinto**. Usaré el **CountVectorizer** que le asigna pesos iguales a todas las palabras, esto porque si uso de vuelta el **TF-IDF Vectorizer** este va a penalizar a actores y directores que estuvieron en varias películas, ya que va a detectar el nombre de los mismos **como palabras comunes**. \n",
    "\n",
    "Por lo tanto proceso a usar **scikit-learn** para vectorizar la información:"
   ]
  },
  {
   "cell_type": "code",
   "execution_count": 19,
   "metadata": {},
   "outputs": [],
   "source": [
    "from sklearn.feature_extraction.text import CountVectorizer\n",
    "\n",
    "count = CountVectorizer(stop_words='english')\n",
    "\n",
    "count_matrix = count.fit_transform(df_metadata['features_soup'])"
   ]
  },
  {
   "cell_type": "markdown",
   "metadata": {},
   "source": [
    "Y ahora al usar un **CountVectorizer** estamos forzados a usar directamente la función que calcula el puntaje de similitud coseno, a diferencia de lo que habíamos hecho antes únicamente calculando el producto punto:"
   ]
  },
  {
   "cell_type": "code",
   "execution_count": 20,
   "metadata": {},
   "outputs": [],
   "source": [
    "from sklearn.metrics.pairwise import cosine_similarity\n",
    "\n",
    "cosine_sim = cosine_similarity(count_matrix, count_matrix)"
   ]
  },
  {
   "cell_type": "markdown",
   "metadata": {},
   "source": [
    "Y ahora usamos de vuelta la función que nos sirvió como sistema de recomendación en el notebook anterior:"
   ]
  },
  {
   "cell_type": "code",
   "execution_count": 21,
   "metadata": {},
   "outputs": [
    {
     "data": {
      "text/html": [
       "<div>\n",
       "<style scoped>\n",
       "    .dataframe tbody tr th:only-of-type {\n",
       "        vertical-align: middle;\n",
       "    }\n",
       "\n",
       "    .dataframe tbody tr th {\n",
       "        vertical-align: top;\n",
       "    }\n",
       "\n",
       "    .dataframe thead th {\n",
       "        text-align: right;\n",
       "    }\n",
       "</style>\n",
       "<table border=\"1\" class=\"dataframe\">\n",
       "  <thead>\n",
       "    <tr style=\"text-align: right;\">\n",
       "      <th></th>\n",
       "      <th>Pelicula</th>\n",
       "      <th>Similitud</th>\n",
       "    </tr>\n",
       "  </thead>\n",
       "  <tbody>\n",
       "    <tr>\n",
       "      <th>1911</th>\n",
       "      <td>Rocky III</td>\n",
       "      <td>0.642857</td>\n",
       "    </tr>\n",
       "    <tr>\n",
       "      <th>8134</th>\n",
       "      <td>Rocky Balboa</td>\n",
       "      <td>0.483046</td>\n",
       "    </tr>\n",
       "    <tr>\n",
       "      <th>1913</th>\n",
       "      <td>Rocky V</td>\n",
       "      <td>0.444750</td>\n",
       "    </tr>\n",
       "    <tr>\n",
       "      <th>8846</th>\n",
       "      <td>Rambo</td>\n",
       "      <td>0.276026</td>\n",
       "    </tr>\n",
       "    <tr>\n",
       "      <th>1387</th>\n",
       "      <td>Ill Gotten Gains</td>\n",
       "      <td>0.267261</td>\n",
       "    </tr>\n",
       "    <tr>\n",
       "      <th>11192</th>\n",
       "      <td>The Expendables</td>\n",
       "      <td>0.267261</td>\n",
       "    </tr>\n",
       "    <tr>\n",
       "      <th>13462</th>\n",
       "      <td>Sundome</td>\n",
       "      <td>0.267261</td>\n",
       "    </tr>\n",
       "    <tr>\n",
       "      <th>15017</th>\n",
       "      <td>Norwegian Ninja</td>\n",
       "      <td>0.267261</td>\n",
       "    </tr>\n",
       "    <tr>\n",
       "      <th>15646</th>\n",
       "      <td>Home Sweet Home</td>\n",
       "      <td>0.267261</td>\n",
       "    </tr>\n",
       "    <tr>\n",
       "      <th>18257</th>\n",
       "      <td>Yolngu Boy</td>\n",
       "      <td>0.267261</td>\n",
       "    </tr>\n",
       "  </tbody>\n",
       "</table>\n",
       "</div>"
      ],
      "text/plain": [
       "               Pelicula  Similitud\n",
       "1911          Rocky III   0.642857\n",
       "8134       Rocky Balboa   0.483046\n",
       "1913            Rocky V   0.444750\n",
       "8846              Rambo   0.276026\n",
       "1387   Ill Gotten Gains   0.267261\n",
       "11192   The Expendables   0.267261\n",
       "13462           Sundome   0.267261\n",
       "15017   Norwegian Ninja   0.267261\n",
       "15646   Home Sweet Home   0.267261\n",
       "18257        Yolngu Boy   0.267261"
      ]
     },
     "execution_count": 21,
     "metadata": {},
     "output_type": "execute_result"
    }
   ],
   "source": [
    "from utils.recommenders import recomendar_peli\n",
    "\n",
    "#Reseteo el indice del dataframe\n",
    "df_metadata.reset_index(drop=True, inplace=True)\n",
    "\n",
    "recomendar_peli(\"Rocky IV\", cosine_sim, df_metadata)"
   ]
  },
  {
   "cell_type": "markdown",
   "metadata": {},
   "source": [
    "Volví a probar obtener recomendaciones para la película **Rocky IV** y cambiaron drásticamente el tipo de recomendaciones, podemos ver que aparecen películas como **Rambo** la cual es protagonizada por **Sylvester Stallone**, por lo cual podríamos intuir que su nombre tuvo mucho peso en el vocabulario, cosa que queríamos.\n",
    "\n",
    "Como buena práctica, podemos ver cuales fueron las palabras de mayor peso según el vectorizador que usamos:"
   ]
  },
  {
   "cell_type": "code",
   "execution_count": 25,
   "metadata": {},
   "outputs": [
    {
     "data": {
      "image/png": "[encoded data removed]",
      "text/plain": [
       "<Figure size 1000x600 with 1 Axes>"
      ]
     },
     "metadata": {},
     "output_type": "display_data"
    }
   ],
   "source": [
    "from utils.functions import plot_important_terms_for_movie\n",
    "\n",
    "plot_important_terms_for_movie(\"Rocky IV\",df_metadata, count, count_matrix)"
   ]
  }
 ],
 "metadata": {
  "kernelspec": {
   "display_name": "SisRecomendacion",
   "language": "python",
   "name": "python3"
  },
  "language_info": {
   "codemirror_mode": {
    "name": "ipython",
    "version": 3
   },
   "file_extension": ".py",
   "mimetype": "text/x-python",
   "name": "python",
   "nbconvert_exporter": "python",
   "pygments_lexer": "ipython3",
   "version": "3.12.4"
  }
 },
 "nbformat": 4,
 "nbformat_minor": 2
}
