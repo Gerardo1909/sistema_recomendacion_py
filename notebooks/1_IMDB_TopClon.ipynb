{
 "cells": [
  {
   "cell_type": "code",
   "execution_count": 1,
   "metadata": {},
   "outputs": [],
   "source": [
    "#Esto me sirve para el correcto funcionamiento de las funciones importadas en este notebook\n",
    "%load_ext autoreload\n",
    "%autoreload 2"
   ]
  },
  {
   "cell_type": "markdown",
   "metadata": {},
   "source": [
    "# Creando un clon del IMDB Top 250 con Pandas"
   ]
  },
  {
   "cell_type": "markdown",
   "metadata": {},
   "source": [
    "## Contexto"
   ]
  },
  {
   "cell_type": "markdown",
   "metadata": {},
   "source": [
    "La base de datos de películas en Internet (IMDB) mantiene una lista llamada **IMDB Top 250**, que es una clasificación de las 250 mejores películas según un determinado criterio de puntuación. Todas las películas en esta lista son estrenos teatrales no documentales con una duración mínima de 45 minutos y más de 250,000 calificaciones.\n",
    "\n",
    "Como primer acercamiento al mundo de los sistemas de recomendación, me voy a proponer crear un \"clon\" del top 250 películas de IMDB. Este proceso me servirá para entender las bases de los sistemas de recomendación de una forma simple, para luego ir complejizando los mismos.\n",
    "\n",
    "Los datos usados en este notebook pertenecen a **\"The Movies Dataset\"**, el cual fue sacado de [Kaggle](https://www.kaggle.com/datasets/rounakbanik/the-movies-dataset?resource=download&select=movies_metadata.csv)."
   ]
  },
  {
   "cell_type": "markdown",
   "metadata": {},
   "source": [
    "![Captura top 250 IMDB](../data/images/captura_top250_IMDB.png)\n",
    "\n",
    "Podemos ver que esta lista puede considerarse como el sistema de recomendación más simple. No toma en cuenta los gustos de un usuario en particular, ni intenta deducir similitudes entre diferentes películas. Simplemente calcula una puntuación para cada película basada en un criterio predefinido y genera una lista ordenada de películas basada en esa puntuación."
   ]
  },
  {
   "cell_type": "markdown",
   "metadata": {},
   "source": [
    "## Cargando los datos"
   ]
  },
  {
   "cell_type": "markdown",
   "metadata": {},
   "source": [
    "Cargo las librerías que voy a usar:"
   ]
  },
  {
   "cell_type": "code",
   "execution_count": 3,
   "metadata": {},
   "outputs": [],
   "source": [
    "from utils.paths import crear_funcion_directorio\n",
    "import pandas as pd"
   ]
  },
  {
   "cell_type": "markdown",
   "metadata": {},
   "source": [
    "Leo el CSV que contiene los metadatos de las películas:"
   ]
  },
  {
   "cell_type": "code",
   "execution_count": 4,
   "metadata": {},
   "outputs": [],
   "source": [
    "#Creo un acceso directo a la carpeta de data\n",
    "data_dir = crear_funcion_directorio(\"data\")\n",
    "\n",
    "#Cargo el dataset\n",
    "movies_metadata_df = pd.read_csv(data_dir(\"raw\", \"movies_metadata.csv\"), low_memory=False)"
   ]
  },
  {
   "cell_type": "markdown",
   "metadata": {},
   "source": [
    "Ahora paso a ver la estructura de filas y columnas del dataframe:"
   ]
  },
  {
   "cell_type": "code",
   "execution_count": 6,
   "metadata": {},
   "outputs": [
    {
     "name": "stdout",
     "output_type": "stream",
     "text": [
      "<class 'pandas.core.frame.DataFrame'>\n",
      "RangeIndex: 45466 entries, 0 to 45465\n",
      "Data columns (total 24 columns):\n",
      " #   Column                 Non-Null Count  Dtype  \n",
      "---  ------                 --------------  -----  \n",
      " 0   adult                  45466 non-null  object \n",
      " 1   belongs_to_collection  4494 non-null   object \n",
      " 2   budget                 45466 non-null  object \n",
      " 3   genres                 45466 non-null  object \n",
      " 4   homepage               7782 non-null   object \n",
      " 5   id                     45466 non-null  object \n",
      " 6   imdb_id                45449 non-null  object \n",
      " 7   original_language      45455 non-null  object \n",
      " 8   original_title         45466 non-null  object \n",
      " 9   overview               44512 non-null  object \n",
      " 10  popularity             45461 non-null  object \n",
      " 11  poster_path            45080 non-null  object \n",
      " 12  production_companies   45463 non-null  object \n",
      " 13  production_countries   45463 non-null  object \n",
      " 14  release_date           45379 non-null  object \n",
      " 15  revenue                45460 non-null  float64\n",
      " 16  runtime                45203 non-null  float64\n",
      " 17  spoken_languages       45460 non-null  object \n",
      " 18  status                 45379 non-null  object \n",
      " 19  tagline                20412 non-null  object \n",
      " 20  title                  45460 non-null  object \n",
      " 21  video                  45460 non-null  object \n",
      " 22  vote_average           45460 non-null  float64\n",
      " 23  vote_count             45460 non-null  float64\n",
      "dtypes: float64(4), object(20)\n",
      "memory usage: 8.3+ MB\n"
     ]
    }
   ],
   "source": [
    "movies_metadata_df.info()"
   ]
  },
  {
   "cell_type": "markdown",
   "metadata": {},
   "source": [
    "Podemos ver que es un dataframe con gran cantidad de features que servirán para generar el sistema de recomendación. Entre los más interesantes están **'vote_count'** y \n",
    "**'vote_average'** que miden la cantidad de votos y promedio de puntuación que recibió una película en partícular respectivamente, estos features son los principales para componer la lista.\n"
   ]
  },
  {
   "cell_type": "markdown",
   "metadata": {},
   "source": [
    "## La métrica usada y los prerrequisitos"
   ]
  },
  {
   "cell_type": "markdown",
   "metadata": {},
   "source": [
    "Para generar esta lista se necesita **una métrica para posicionar las películas** y **prerrequisitos** que deben cumplir las mismas para ser incluidas en la lista en primera instancia.\n",
    "\n",
    "**La métrica** es un valor númerico que define si una película es mejor que otra, si una película tiene un mayor valor en dicha métrica entonces será considerada \"mejor\" que otra. Elegir una métrica es arbitrario y lo primero que se podría venir a la mente es tomar el rating que recibió una película, pero dicha métrica en sí tiene muchos problemas, para visualizar dichos problemas podemos considerar los siguientes puntos:\n",
    "\n",
    "1. Tenemos una película X con solo 10 votos y todos obtuvieron la máxima puntuación\n",
    "2. Tenemos otra película Y con más de 10000 votos y su promedio en puntuación es de 9.2\n",
    "3. Al basar nuestra métrica en el rating nos daría que la película X es mejor que la Y, pero fácilmente podría ocurrir que la película X\n",
    "es una \"película de nicho\" que solo le gusta a un grupo selecto de personas y que no representa a la población general\n",
    "\n",
    "Con estos puntos logré dejar clara la importancia de **elegir una métrica robusta** y ciertos prerrequisitos que las películas deben cumplir antes de entrar a la lista. Con esto visto entonces deberíamos buscar una métrica que tome en cuenta la cantidad de votos y el rating de la película, afortunadamente dicha métrica existe y viene proporcionada por IMDB. A continuación una imagen de la fórmula que describe la métrica y sus parámetros explicados:\n",
    "\n",
    "![Formula métrica IMDB](../data/images/formula_descripcion_IMDB.png)\n",
    "\n",
    "Podemos ver que en nuestro dataframe ya existen los valores de **v** y **R** para cada película, los cuales vienen dados por las columnas **'vote_count'** y \n",
    "**'vote_average'** respectivamente, luego calcular **C** es trivial y **m** representa el prerrequisito que nosotros queremos definir.\n",
    "\n",
    "Al igual que con la métrica **elegir un valor de m es arbitrario**, pero hay que saber que a mayor valor de **m** mayor será el enfásis que se le dá a la popularidad de la película y por lo tanto tendremos una lista más pequeña. "
   ]
  },
  {
   "cell_type": "markdown",
   "metadata": {},
   "source": [
    "Para este caso me gustaría considerar a las películas que recaudaron una cantidad de votos **mayor o igual al 85% de las películas en el dataset**, es decir que tomaré el percentil 85 de **'vote_count'**. Voy a llevarlo a Python:"
   ]
  },
  {
   "cell_type": "code",
   "execution_count": 9,
   "metadata": {},
   "outputs": [
    {
     "data": {
      "text/plain": [
       "np.float64(82.0)"
      ]
     },
     "execution_count": 9,
     "metadata": {},
     "output_type": "execute_result"
    }
   ],
   "source": [
    "m = movies_metadata_df['vote_count'].quantile(0.85)\n",
    "\n",
    "# Lo imprimo\n",
    "m"
   ]
  },
  {
   "cell_type": "markdown",
   "metadata": {},
   "source": [
    "Es decir que **solo el 15%** de las películas en el dataframe han logrado recaudar más de 82 votos.\n",
    "\n",
    "Ahora paso a generar un nuevo dataframe **'movies_lista'** que contenga solo las películas que tengan como mínimo el valor de m en la columna **'vote_count'**:"
   ]
  },
  {
   "cell_type": "code",
   "execution_count": 10,
   "metadata": {},
   "outputs": [
    {
     "data": {
      "text/plain": [
       "(6832, 24)"
      ]
     },
     "execution_count": 10,
     "metadata": {},
     "output_type": "execute_result"
    }
   ],
   "source": [
    "# Genero el nuevo dataframe\n",
    "movies_lista = movies_metadata_df.copy().loc[movies_metadata_df['vote_count'] >= m]\n",
    "\n",
    "# Miro sus dimensiones\n",
    "movies_lista.shape"
   ]
  },
  {
   "cell_type": "markdown",
   "metadata": {},
   "source": [
    "Pasamos de tener una 45000 películas a apróximadamente 7000, eso muestra lo estricto que es nuestro **m**.\n",
    "\n",
    "Ahora consigo el valor de **C**:"
   ]
  },
  {
   "cell_type": "code",
   "execution_count": 12,
   "metadata": {},
   "outputs": [
    {
     "data": {
      "text/plain": [
       "np.float64(5.618207215134185)"
      ]
     },
     "execution_count": 12,
     "metadata": {},
     "output_type": "execute_result"
    }
   ],
   "source": [
    "# Calculo el valor de C, notar que lo tomo desde el dataframe original\n",
    "C = movies_metadata_df['vote_average'].mean()\n",
    "\n",
    "# Lo imprimo\n",
    "C"
   ]
  },
  {
   "cell_type": "markdown",
   "metadata": {},
   "source": [
    "Podemos ver también lo estricto de los ratings en IMDB, siendo que el promedio de estas películas **es apróximadamente 5.62**. \n",
    "\n",
    "Ahora defino una función que calcule la métrica para una película dada:"
   ]
  },
  {
   "cell_type": "code",
   "execution_count": 13,
   "metadata": {},
   "outputs": [],
   "source": [
    "def weighted_rating(x, m=m, C=C):\n",
    "    v = x['vote_count']\n",
    "    R = x['vote_average']\n",
    "    # Retorno la métrica basada en la fórmula de IMDB\n",
    "    return (v/(v+m) * R) + (m/(m+v) * C)"
   ]
  },
  {
   "cell_type": "markdown",
   "metadata": {},
   "source": [
    "Y ahora generamos una nueva feature llamada **'score'** en el dataframe **'movies_lista'** que contenga la métrica calculada para cada película, lo que nos servirá para finalmente obtener la lista que buscábamos en un principio:"
   ]
  },
  {
   "cell_type": "code",
   "execution_count": 16,
   "metadata": {},
   "outputs": [
    {
     "data": {
      "text/html": [
       "<div>\n",
       "<style scoped>\n",
       "    .dataframe tbody tr th:only-of-type {\n",
       "        vertical-align: middle;\n",
       "    }\n",
       "\n",
       "    .dataframe tbody tr th {\n",
       "        vertical-align: top;\n",
       "    }\n",
       "\n",
       "    .dataframe thead th {\n",
       "        text-align: right;\n",
       "    }\n",
       "</style>\n",
       "<table border=\"1\" class=\"dataframe\">\n",
       "  <thead>\n",
       "    <tr style=\"text-align: right;\">\n",
       "      <th></th>\n",
       "      <th>title</th>\n",
       "      <th>vote_count</th>\n",
       "      <th>vote_average</th>\n",
       "      <th>score</th>\n",
       "      <th>runtime</th>\n",
       "    </tr>\n",
       "  </thead>\n",
       "  <tbody>\n",
       "    <tr>\n",
       "      <th>10309</th>\n",
       "      <td>Dilwale Dulhania Le Jayenge</td>\n",
       "      <td>661.0</td>\n",
       "      <td>9.1</td>\n",
       "      <td>8.715738</td>\n",
       "      <td>190.0</td>\n",
       "    </tr>\n",
       "    <tr>\n",
       "      <th>314</th>\n",
       "      <td>The Shawshank Redemption</td>\n",
       "      <td>8358.0</td>\n",
       "      <td>8.5</td>\n",
       "      <td>8.472002</td>\n",
       "      <td>142.0</td>\n",
       "    </tr>\n",
       "    <tr>\n",
       "      <th>834</th>\n",
       "      <td>The Godfather</td>\n",
       "      <td>6024.0</td>\n",
       "      <td>8.5</td>\n",
       "      <td>8.461299</td>\n",
       "      <td>175.0</td>\n",
       "    </tr>\n",
       "    <tr>\n",
       "      <th>40251</th>\n",
       "      <td>Your Name.</td>\n",
       "      <td>1030.0</td>\n",
       "      <td>8.5</td>\n",
       "      <td>8.287494</td>\n",
       "      <td>106.0</td>\n",
       "    </tr>\n",
       "    <tr>\n",
       "      <th>12481</th>\n",
       "      <td>The Dark Knight</td>\n",
       "      <td>12269.0</td>\n",
       "      <td>8.3</td>\n",
       "      <td>8.282195</td>\n",
       "      <td>152.0</td>\n",
       "    </tr>\n",
       "    <tr>\n",
       "      <th>2843</th>\n",
       "      <td>Fight Club</td>\n",
       "      <td>9678.0</td>\n",
       "      <td>8.3</td>\n",
       "      <td>8.277469</td>\n",
       "      <td>139.0</td>\n",
       "    </tr>\n",
       "    <tr>\n",
       "      <th>292</th>\n",
       "      <td>Pulp Fiction</td>\n",
       "      <td>8670.0</td>\n",
       "      <td>8.3</td>\n",
       "      <td>8.274874</td>\n",
       "      <td>154.0</td>\n",
       "    </tr>\n",
       "    <tr>\n",
       "      <th>522</th>\n",
       "      <td>Schindler's List</td>\n",
       "      <td>4436.0</td>\n",
       "      <td>8.3</td>\n",
       "      <td>8.251326</td>\n",
       "      <td>195.0</td>\n",
       "    </tr>\n",
       "    <tr>\n",
       "      <th>23673</th>\n",
       "      <td>Whiplash</td>\n",
       "      <td>4376.0</td>\n",
       "      <td>8.3</td>\n",
       "      <td>8.250671</td>\n",
       "      <td>105.0</td>\n",
       "    </tr>\n",
       "    <tr>\n",
       "      <th>5481</th>\n",
       "      <td>Spirited Away</td>\n",
       "      <td>3968.0</td>\n",
       "      <td>8.3</td>\n",
       "      <td>8.245702</td>\n",
       "      <td>125.0</td>\n",
       "    </tr>\n",
       "    <tr>\n",
       "      <th>2211</th>\n",
       "      <td>Life Is Beautiful</td>\n",
       "      <td>3643.0</td>\n",
       "      <td>8.3</td>\n",
       "      <td>8.240965</td>\n",
       "      <td>116.0</td>\n",
       "    </tr>\n",
       "    <tr>\n",
       "      <th>1178</th>\n",
       "      <td>The Godfather: Part II</td>\n",
       "      <td>3418.0</td>\n",
       "      <td>8.3</td>\n",
       "      <td>8.237169</td>\n",
       "      <td>200.0</td>\n",
       "    </tr>\n",
       "    <tr>\n",
       "      <th>1152</th>\n",
       "      <td>One Flew Over the Cuckoo's Nest</td>\n",
       "      <td>3001.0</td>\n",
       "      <td>8.3</td>\n",
       "      <td>8.228671</td>\n",
       "      <td>133.0</td>\n",
       "    </tr>\n",
       "    <tr>\n",
       "      <th>1176</th>\n",
       "      <td>Psycho</td>\n",
       "      <td>2405.0</td>\n",
       "      <td>8.3</td>\n",
       "      <td>8.211577</td>\n",
       "      <td>109.0</td>\n",
       "    </tr>\n",
       "    <tr>\n",
       "      <th>351</th>\n",
       "      <td>Forrest Gump</td>\n",
       "      <td>8147.0</td>\n",
       "      <td>8.2</td>\n",
       "      <td>8.174273</td>\n",
       "      <td>142.0</td>\n",
       "    </tr>\n",
       "    <tr>\n",
       "      <th>1154</th>\n",
       "      <td>The Empire Strikes Back</td>\n",
       "      <td>5998.0</td>\n",
       "      <td>8.2</td>\n",
       "      <td>8.165180</td>\n",
       "      <td>124.0</td>\n",
       "    </tr>\n",
       "    <tr>\n",
       "      <th>18465</th>\n",
       "      <td>The Intouchables</td>\n",
       "      <td>5410.0</td>\n",
       "      <td>8.2</td>\n",
       "      <td>8.161452</td>\n",
       "      <td>112.0</td>\n",
       "    </tr>\n",
       "    <tr>\n",
       "      <th>289</th>\n",
       "      <td>Leon: The Professional</td>\n",
       "      <td>4293.0</td>\n",
       "      <td>8.2</td>\n",
       "      <td>8.151610</td>\n",
       "      <td>110.0</td>\n",
       "    </tr>\n",
       "    <tr>\n",
       "      <th>3030</th>\n",
       "      <td>The Green Mile</td>\n",
       "      <td>4166.0</td>\n",
       "      <td>8.2</td>\n",
       "      <td>8.150163</td>\n",
       "      <td>189.0</td>\n",
       "    </tr>\n",
       "    <tr>\n",
       "      <th>1170</th>\n",
       "      <td>GoodFellas</td>\n",
       "      <td>3211.0</td>\n",
       "      <td>8.2</td>\n",
       "      <td>8.135710</td>\n",
       "      <td>145.0</td>\n",
       "    </tr>\n",
       "  </tbody>\n",
       "</table>\n",
       "</div>"
      ],
      "text/plain": [
       "                                 title  vote_count  vote_average     score  \\\n",
       "10309      Dilwale Dulhania Le Jayenge       661.0           9.1  8.715738   \n",
       "314           The Shawshank Redemption      8358.0           8.5  8.472002   \n",
       "834                      The Godfather      6024.0           8.5  8.461299   \n",
       "40251                       Your Name.      1030.0           8.5  8.287494   \n",
       "12481                  The Dark Knight     12269.0           8.3  8.282195   \n",
       "2843                        Fight Club      9678.0           8.3  8.277469   \n",
       "292                       Pulp Fiction      8670.0           8.3  8.274874   \n",
       "522                   Schindler's List      4436.0           8.3  8.251326   \n",
       "23673                         Whiplash      4376.0           8.3  8.250671   \n",
       "5481                     Spirited Away      3968.0           8.3  8.245702   \n",
       "2211                 Life Is Beautiful      3643.0           8.3  8.240965   \n",
       "1178            The Godfather: Part II      3418.0           8.3  8.237169   \n",
       "1152   One Flew Over the Cuckoo's Nest      3001.0           8.3  8.228671   \n",
       "1176                            Psycho      2405.0           8.3  8.211577   \n",
       "351                       Forrest Gump      8147.0           8.2  8.174273   \n",
       "1154           The Empire Strikes Back      5998.0           8.2  8.165180   \n",
       "18465                 The Intouchables      5410.0           8.2  8.161452   \n",
       "289             Leon: The Professional      4293.0           8.2  8.151610   \n",
       "3030                    The Green Mile      4166.0           8.2  8.150163   \n",
       "1170                        GoodFellas      3211.0           8.2  8.135710   \n",
       "\n",
       "       runtime  \n",
       "10309    190.0  \n",
       "314      142.0  \n",
       "834      175.0  \n",
       "40251    106.0  \n",
       "12481    152.0  \n",
       "2843     139.0  \n",
       "292      154.0  \n",
       "522      195.0  \n",
       "23673    105.0  \n",
       "5481     125.0  \n",
       "2211     116.0  \n",
       "1178     200.0  \n",
       "1152     133.0  \n",
       "1176     109.0  \n",
       "351      142.0  \n",
       "1154     124.0  \n",
       "18465    112.0  \n",
       "289      110.0  \n",
       "3030     189.0  \n",
       "1170     145.0  "
      ]
     },
     "execution_count": 16,
     "metadata": {},
     "output_type": "execute_result"
    }
   ],
   "source": [
    "# Aplico la función\n",
    "movies_lista['score'] = movies_lista.apply(weighted_rating, axis=1)\n",
    "\n",
    "# Ordeno el dataframe y lo muestro por pantalla\n",
    "movies_lista = movies_lista.sort_values('score', ascending=False)\n",
    "movies_lista[['title', 'vote_count', 'vote_average', 'score', 'runtime']].head(20)"
   ]
  },
  {
   "cell_type": "markdown",
   "metadata": {},
   "source": [
    "Y aquí se logró obtener una lista bastante parecida a la mostrada anteriormente, logrando así el objetivo que se propuso. Podemos ver que la película en el puesto 1 tiene una cantidad de votos notablemente menor que el resto en la lista, pero esto puede cambiar ajustando el valor de **m** para que sea más estricto."
   ]
  }
 ],
 "metadata": {
  "kernelspec": {
   "display_name": "SisRecomendacion",
   "language": "python",
   "name": "python3"
  },
  "language_info": {
   "codemirror_mode": {
    "name": "ipython",
    "version": 3
   },
   "file_extension": ".py",
   "mimetype": "text/x-python",
   "name": "python",
   "nbconvert_exporter": "python",
   "pygments_lexer": "ipython3",
   "version": "3.12.4"
  }
 },
 "nbformat": 4,
 "nbformat_minor": 2
}
